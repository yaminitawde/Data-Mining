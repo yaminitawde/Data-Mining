{
 "cells": [
  {
   "cell_type": "markdown",
   "id": "traditional-coalition",
   "metadata": {},
   "source": [
    "## 5.A Lab Replication"
   ]
  },
  {
   "cell_type": "markdown",
   "id": "described-chest",
   "metadata": {},
   "source": [
    "### 1.1 Cross validation for linear model"
   ]
  },
  {
   "cell_type": "code",
   "execution_count": 1,
   "id": "advisory-mystery",
   "metadata": {},
   "outputs": [],
   "source": [
    "import pandas as pd\n",
    "import numpy as np\n",
    "from sklearn.datasets import load_boston\n",
    "from random import sample\n",
    "import random\n",
    "random.seed(14023799)\n",
    "import statsmodels.formula.api as smf\n",
    "import statsmodels.api as sm\n",
    "import warnings\n",
    "warnings.filterwarnings('ignore')"
   ]
  },
  {
   "cell_type": "code",
   "execution_count": 2,
   "id": "earned-contrary",
   "metadata": {},
   "outputs": [],
   "source": [
    "dataset = load_boston()\n",
    "boston_housing = pd.DataFrame(dataset.data, columns= map(str.lower, dataset.feature_names))\n",
    "boston_housing['medv'] = dataset.target"
   ]
  },
  {
   "cell_type": "code",
   "execution_count": 3,
   "id": "precious-calcium",
   "metadata": {},
   "outputs": [],
   "source": [
    "from sklearn.linear_model import LinearRegression\n",
    "from sklearn.model_selection import cross_val_score\n",
    "from sklearn.metrics import mean_squared_error\n",
    "from sklearn.metrics import make_scorer"
   ]
  },
  {
   "cell_type": "markdown",
   "id": "charitable-preference",
   "metadata": {},
   "source": [
    "#### 10-fold Cross Validation"
   ]
  },
  {
   "cell_type": "code",
   "execution_count": 4,
   "id": "informal-inflation",
   "metadata": {},
   "outputs": [],
   "source": [
    "num = list(range(len(boston_housing)))\n",
    "ran = sample(num, int(len(num)*0.8))\n",
    "rem = [i for i in num if i not in ran] \n",
    "\n",
    "boston_train = boston_housing.iloc[ran, :]\n",
    "boston_test = boston_housing.iloc[rem, :]\n",
    "\n",
    "X_train = boston_train.iloc[:,:-1]\n",
    "y_train = boston_train.iloc[:,-1:]\n",
    "\n",
    "X_test = boston_test.iloc[:,:-1]\n",
    "y_test = boston_test.iloc[:,-1:]\n",
    "\n",
    "df1 = X_train[['indus','rm']]"
   ]
  },
  {
   "cell_type": "code",
   "execution_count": 5,
   "id": "heated-rabbit",
   "metadata": {},
   "outputs": [
    {
     "data": {
      "text/plain": [
       "24.10330742840943"
      ]
     },
     "execution_count": 5,
     "metadata": {},
     "output_type": "execute_result"
    }
   ],
   "source": [
    "mse = make_scorer(mean_squared_error)\n",
    "model_1 = LinearRegression()\n",
    "cross_val_score(model_1, X_train, y_train, cv = 10,scoring = mse).mean()"
   ]
  },
  {
   "cell_type": "code",
   "execution_count": 6,
   "id": "fancy-default",
   "metadata": {},
   "outputs": [
    {
     "data": {
      "text/plain": [
       "40.653207866034634"
      ]
     },
     "execution_count": 6,
     "metadata": {},
     "output_type": "execute_result"
    }
   ],
   "source": [
    "cross_val_score(model_1, df1, y_train, cv = 10,scoring = mse).mean()"
   ]
  },
  {
   "cell_type": "markdown",
   "id": "reported-lincoln",
   "metadata": {},
   "source": [
    "#### Leave one out cross validation"
   ]
  },
  {
   "cell_type": "code",
   "execution_count": 7,
   "id": "amateur-capability",
   "metadata": {},
   "outputs": [
    {
     "data": {
      "text/plain": [
       "24.311952804117674"
      ]
     },
     "execution_count": 7,
     "metadata": {},
     "output_type": "execute_result"
    }
   ],
   "source": [
    "cross_val_score(model_1, X_train, y_train, cv = X_train.shape[0],scoring = mse).mean()"
   ]
  },
  {
   "cell_type": "code",
   "execution_count": 8,
   "id": "nearby-joyce",
   "metadata": {},
   "outputs": [
    {
     "data": {
      "text/plain": [
       "40.84407580572506"
      ]
     },
     "execution_count": 8,
     "metadata": {},
     "output_type": "execute_result"
    }
   ],
   "source": [
    "cross_val_score(model_1, df1, y_train, cv = X_train.shape[0], scoring = mse).mean()"
   ]
  },
  {
   "cell_type": "markdown",
   "id": "introductory-parks",
   "metadata": {},
   "source": [
    "#### 10-fold Cross Validation Using MAE"
   ]
  },
  {
   "cell_type": "code",
   "execution_count": 9,
   "id": "polish-butter",
   "metadata": {},
   "outputs": [
    {
     "data": {
      "text/plain": [
       "3.4512930506123896"
      ]
     },
     "execution_count": 9,
     "metadata": {},
     "output_type": "execute_result"
    }
   ],
   "source": [
    "def MAD_cost(pi, r):\n",
    "    return((abs(pi-r)).mean())\n",
    "\n",
    "\n",
    "my_scorer = make_scorer(MAD_cost, greater_is_better=True)\n",
    "\n",
    "\n",
    "cross_val_score(model_1, X_train, y_train, scoring = my_scorer, cv = 10).mean()"
   ]
  },
  {
   "cell_type": "code",
   "execution_count": 10,
   "id": "prompt-corpus",
   "metadata": {},
   "outputs": [
    {
     "data": {
      "text/plain": [
       "4.361620759842027"
      ]
     },
     "execution_count": 10,
     "metadata": {},
     "output_type": "execute_result"
    }
   ],
   "source": [
    "cross_val_score(model_1, df1, y_train, scoring = my_scorer, cv = 10).mean()"
   ]
  },
  {
   "cell_type": "markdown",
   "id": "buried-replica",
   "metadata": {},
   "source": [
    "#### Cross Validation for search optimal tuning parameter in LASSO"
   ]
  },
  {
   "cell_type": "code",
   "execution_count": 11,
   "id": "actual-damage",
   "metadata": {},
   "outputs": [
    {
     "name": "stdout",
     "output_type": "stream",
     "text": [
      "The variable coefficients provided by the lasso are:\n"
     ]
    },
    {
     "data": {
      "text/plain": [
       "crim      -0.074266\n",
       "zn         0.049454\n",
       "indus     -0.000000\n",
       "chas       0.000000\n",
       "nox       -0.000000\n",
       "rm         1.804385\n",
       "age        0.011333\n",
       "dis       -0.813244\n",
       "rad        0.272284\n",
       "tax       -0.015425\n",
       "ptratio   -0.742872\n",
       "b          0.008926\n",
       "lstat     -0.703654\n",
       "dtype: float64"
      ]
     },
     "execution_count": 11,
     "metadata": {},
     "output_type": "execute_result"
    }
   ],
   "source": [
    "#use 10-fold cross validation to pick lambda\n",
    "\n",
    "from sklearn.linear_model import LassoCV\n",
    "\n",
    "boston_train = boston_housing.iloc[: , :-1]\n",
    "model_lassocv = LassoCV(cv = 10).fit(boston_train, boston_housing['medv'])\n",
    "\n",
    "print('The variable coefficients provided by the lasso are:')\n",
    "coef = pd.Series(model_lassocv.coef_, index = boston_train.columns)\n",
    "coef"
   ]
  },
  {
   "cell_type": "code",
   "execution_count": 12,
   "id": "specified-stations",
   "metadata": {},
   "outputs": [
    {
     "name": "stdout",
     "output_type": "stream",
     "text": [
      "The chosen alpha is: \n"
     ]
    },
    {
     "data": {
      "text/plain": [
       "0.7248204283772595"
      ]
     },
     "execution_count": 12,
     "metadata": {},
     "output_type": "execute_result"
    }
   ],
   "source": [
    "print(\"The chosen alpha is: \")\n",
    "model_lassocv.alpha_"
   ]
  },
  {
   "cell_type": "code",
   "execution_count": 13,
   "id": "great-quilt",
   "metadata": {},
   "outputs": [
    {
     "data": {
      "text/plain": [
       "3.486781991328123"
      ]
     },
     "execution_count": 13,
     "metadata": {},
     "output_type": "execute_result"
    }
   ],
   "source": [
    "test_pred = model_lassocv.predict(boston_train)\n",
    "MAD_cost(test_pred,boston_housing['medv'])"
   ]
  },
  {
   "cell_type": "markdown",
   "id": "complete-inclusion",
   "metadata": {},
   "source": [
    "## 5A Exercise"
   ]
  },
  {
   "cell_type": "markdown",
   "id": "norman-freight",
   "metadata": {},
   "source": [
    "For boston housing dataset, conduct 2-fold CV by cv.glm to calculate the mean square error of full model, and a reduced model with indus and rm only. In terms of the CV criterion, which of the two models do you prefer?"
   ]
  },
  {
   "cell_type": "markdown",
   "id": "earned-ordinance",
   "metadata": {},
   "source": [
    "#### MSE of full model"
   ]
  },
  {
   "cell_type": "code",
   "execution_count": 14,
   "id": "working-begin",
   "metadata": {},
   "outputs": [
    {
     "data": {
      "text/plain": [
       "25.704174120940735"
      ]
     },
     "execution_count": 14,
     "metadata": {},
     "output_type": "execute_result"
    }
   ],
   "source": [
    "full_model = LinearRegression()\n",
    "cross_val_score(full_model, X_train, y_train, cv = 2,scoring = mse).mean()"
   ]
  },
  {
   "cell_type": "markdown",
   "id": "exempt-newport",
   "metadata": {},
   "source": [
    "#### Cross validation score of full model"
   ]
  },
  {
   "cell_type": "code",
   "execution_count": 15,
   "id": "recorded-battle",
   "metadata": {},
   "outputs": [
    {
     "data": {
      "text/plain": [
       "0.694720332094095"
      ]
     },
     "execution_count": 15,
     "metadata": {},
     "output_type": "execute_result"
    }
   ],
   "source": [
    "cross_val_score(full_model, X_train, y_train, cv = 2).mean()"
   ]
  },
  {
   "cell_type": "markdown",
   "id": "running-profile",
   "metadata": {},
   "source": [
    "#### MSE of reduced model"
   ]
  },
  {
   "cell_type": "code",
   "execution_count": 16,
   "id": "ordinary-triangle",
   "metadata": {},
   "outputs": [
    {
     "data": {
      "text/plain": [
       "41.86556939011739"
      ]
     },
     "execution_count": 16,
     "metadata": {},
     "output_type": "execute_result"
    }
   ],
   "source": [
    "reduced_model = LinearRegression()\n",
    "cross_val_score(reduced_model, df1, y_train, cv = 2,scoring = mse).mean()"
   ]
  },
  {
   "cell_type": "markdown",
   "id": "accurate-trace",
   "metadata": {},
   "source": [
    "#### Cross validation score of reduced model"
   ]
  },
  {
   "cell_type": "code",
   "execution_count": 17,
   "id": "rapid-usage",
   "metadata": {},
   "outputs": [
    {
     "data": {
      "text/plain": [
       "0.694720332094095"
      ]
     },
     "execution_count": 17,
     "metadata": {},
     "output_type": "execute_result"
    }
   ],
   "source": [
    "cross_val_score(reduced_model, X_train, y_train, cv = 2).mean()"
   ]
  },
  {
   "cell_type": "markdown",
   "id": "ongoing-frontier",
   "metadata": {},
   "source": [
    "#### The MSE for the full model is less so we can prefer the full model over reduced model"
   ]
  }
 ],
 "metadata": {
  "kernelspec": {
   "display_name": "Python 3",
   "language": "python",
   "name": "python3"
  },
  "language_info": {
   "codemirror_mode": {
    "name": "ipython",
    "version": 3
   },
   "file_extension": ".py",
   "mimetype": "text/x-python",
   "name": "python",
   "nbconvert_exporter": "python",
   "pygments_lexer": "ipython3",
   "version": "3.8.6"
  }
 },
 "nbformat": 4,
 "nbformat_minor": 5
}
