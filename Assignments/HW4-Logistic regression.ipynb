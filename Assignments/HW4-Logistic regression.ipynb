{
 "cells": [
  {
   "cell_type": "code",
   "execution_count": 1,
   "id": "removed-gravity",
   "metadata": {},
   "outputs": [],
   "source": [
    "import pandas as pd\n",
    "import matplotlib.pyplot as plt\n",
    "import seaborn as sns\n",
    "import warnings\n",
    "warnings.filterwarnings(\"ignore\")"
   ]
  },
  {
   "cell_type": "code",
   "execution_count": 2,
   "id": "waiting-apache",
   "metadata": {},
   "outputs": [],
   "source": [
    "# Reading the data\n",
    "credit_data = pd.read_csv(\"https://xiaoruizhu.github.io/Data-Mining-R/lecture/data/credit_default.csv\")"
   ]
  },
  {
   "cell_type": "code",
   "execution_count": 3,
   "id": "written-rolling",
   "metadata": {},
   "outputs": [
    {
     "data": {
      "text/plain": [
       "Index(['LIMIT_BAL', 'SEX', 'EDUCATION', 'MARRIAGE', 'AGE', 'PAY_0', 'PAY_2',\n",
       "       'PAY_3', 'PAY_4', 'PAY_5', 'PAY_6', 'BILL_AMT1', 'BILL_AMT2',\n",
       "       'BILL_AMT3', 'BILL_AMT4', 'BILL_AMT5', 'BILL_AMT6', 'PAY_AMT1',\n",
       "       'PAY_AMT2', 'PAY_AMT3', 'PAY_AMT4', 'PAY_AMT5', 'PAY_AMT6',\n",
       "       'default.payment.next.month'],\n",
       "      dtype='object')"
      ]
     },
     "execution_count": 3,
     "metadata": {},
     "output_type": "execute_result"
    }
   ],
   "source": [
    "# Understanding the columns\n",
    "credit_data.columns"
   ]
  },
  {
   "cell_type": "code",
   "execution_count": 4,
   "id": "offensive-control",
   "metadata": {},
   "outputs": [
    {
     "data": {
      "text/html": [
       "<div>\n",
       "<style scoped>\n",
       "    .dataframe tbody tr th:only-of-type {\n",
       "        vertical-align: middle;\n",
       "    }\n",
       "\n",
       "    .dataframe tbody tr th {\n",
       "        vertical-align: top;\n",
       "    }\n",
       "\n",
       "    .dataframe thead th {\n",
       "        text-align: right;\n",
       "    }\n",
       "</style>\n",
       "<table border=\"1\" class=\"dataframe\">\n",
       "  <thead>\n",
       "    <tr style=\"text-align: right;\">\n",
       "      <th></th>\n",
       "      <th>LIMIT_BAL</th>\n",
       "      <th>SEX</th>\n",
       "      <th>EDUCATION</th>\n",
       "      <th>MARRIAGE</th>\n",
       "      <th>AGE</th>\n",
       "      <th>PAY_0</th>\n",
       "      <th>PAY_2</th>\n",
       "      <th>PAY_3</th>\n",
       "      <th>PAY_4</th>\n",
       "      <th>PAY_5</th>\n",
       "      <th>...</th>\n",
       "      <th>BILL_AMT4</th>\n",
       "      <th>BILL_AMT5</th>\n",
       "      <th>BILL_AMT6</th>\n",
       "      <th>PAY_AMT1</th>\n",
       "      <th>PAY_AMT2</th>\n",
       "      <th>PAY_AMT3</th>\n",
       "      <th>PAY_AMT4</th>\n",
       "      <th>PAY_AMT5</th>\n",
       "      <th>PAY_AMT6</th>\n",
       "      <th>default.payment.next.month</th>\n",
       "    </tr>\n",
       "  </thead>\n",
       "  <tbody>\n",
       "    <tr>\n",
       "      <th>0</th>\n",
       "      <td>290000</td>\n",
       "      <td>2</td>\n",
       "      <td>2</td>\n",
       "      <td>2</td>\n",
       "      <td>26</td>\n",
       "      <td>0</td>\n",
       "      <td>0</td>\n",
       "      <td>0</td>\n",
       "      <td>0</td>\n",
       "      <td>-1</td>\n",
       "      <td>...</td>\n",
       "      <td>100000</td>\n",
       "      <td>3015</td>\n",
       "      <td>23473</td>\n",
       "      <td>3000</td>\n",
       "      <td>80000</td>\n",
       "      <td>3000</td>\n",
       "      <td>3015</td>\n",
       "      <td>23473</td>\n",
       "      <td>1148</td>\n",
       "      <td>0</td>\n",
       "    </tr>\n",
       "    <tr>\n",
       "      <th>1</th>\n",
       "      <td>20000</td>\n",
       "      <td>1</td>\n",
       "      <td>2</td>\n",
       "      <td>2</td>\n",
       "      <td>51</td>\n",
       "      <td>-1</td>\n",
       "      <td>-1</td>\n",
       "      <td>-2</td>\n",
       "      <td>-1</td>\n",
       "      <td>-1</td>\n",
       "      <td>...</td>\n",
       "      <td>780</td>\n",
       "      <td>0</td>\n",
       "      <td>0</td>\n",
       "      <td>0</td>\n",
       "      <td>0</td>\n",
       "      <td>2280</td>\n",
       "      <td>0</td>\n",
       "      <td>0</td>\n",
       "      <td>0</td>\n",
       "      <td>0</td>\n",
       "    </tr>\n",
       "    <tr>\n",
       "      <th>2</th>\n",
       "      <td>280000</td>\n",
       "      <td>1</td>\n",
       "      <td>1</td>\n",
       "      <td>2</td>\n",
       "      <td>29</td>\n",
       "      <td>-2</td>\n",
       "      <td>-2</td>\n",
       "      <td>-2</td>\n",
       "      <td>-2</td>\n",
       "      <td>-2</td>\n",
       "      <td>...</td>\n",
       "      <td>2510</td>\n",
       "      <td>591</td>\n",
       "      <td>14994</td>\n",
       "      <td>5123</td>\n",
       "      <td>8467</td>\n",
       "      <td>2510</td>\n",
       "      <td>591</td>\n",
       "      <td>14994</td>\n",
       "      <td>5000</td>\n",
       "      <td>0</td>\n",
       "    </tr>\n",
       "    <tr>\n",
       "      <th>3</th>\n",
       "      <td>280000</td>\n",
       "      <td>2</td>\n",
       "      <td>1</td>\n",
       "      <td>2</td>\n",
       "      <td>47</td>\n",
       "      <td>0</td>\n",
       "      <td>0</td>\n",
       "      <td>0</td>\n",
       "      <td>0</td>\n",
       "      <td>0</td>\n",
       "      <td>...</td>\n",
       "      <td>184270</td>\n",
       "      <td>130954</td>\n",
       "      <td>92215</td>\n",
       "      <td>11268</td>\n",
       "      <td>8196</td>\n",
       "      <td>6281</td>\n",
       "      <td>4403</td>\n",
       "      <td>3532</td>\n",
       "      <td>3510</td>\n",
       "      <td>0</td>\n",
       "    </tr>\n",
       "    <tr>\n",
       "      <th>4</th>\n",
       "      <td>20000</td>\n",
       "      <td>1</td>\n",
       "      <td>2</td>\n",
       "      <td>2</td>\n",
       "      <td>24</td>\n",
       "      <td>0</td>\n",
       "      <td>0</td>\n",
       "      <td>0</td>\n",
       "      <td>0</td>\n",
       "      <td>0</td>\n",
       "      <td>...</td>\n",
       "      <td>19396</td>\n",
       "      <td>11643</td>\n",
       "      <td>11578</td>\n",
       "      <td>1400</td>\n",
       "      <td>1380</td>\n",
       "      <td>1181</td>\n",
       "      <td>1000</td>\n",
       "      <td>500</td>\n",
       "      <td>500</td>\n",
       "      <td>0</td>\n",
       "    </tr>\n",
       "  </tbody>\n",
       "</table>\n",
       "<p>5 rows × 24 columns</p>\n",
       "</div>"
      ],
      "text/plain": [
       "   LIMIT_BAL  SEX  EDUCATION  MARRIAGE  AGE  PAY_0  PAY_2  PAY_3  PAY_4  \\\n",
       "0     290000    2          2         2   26      0      0      0      0   \n",
       "1      20000    1          2         2   51     -1     -1     -2     -1   \n",
       "2     280000    1          1         2   29     -2     -2     -2     -2   \n",
       "3     280000    2          1         2   47      0      0      0      0   \n",
       "4      20000    1          2         2   24      0      0      0      0   \n",
       "\n",
       "   PAY_5  ...  BILL_AMT4  BILL_AMT5  BILL_AMT6  PAY_AMT1  PAY_AMT2  PAY_AMT3  \\\n",
       "0     -1  ...     100000       3015      23473      3000     80000      3000   \n",
       "1     -1  ...        780          0          0         0         0      2280   \n",
       "2     -2  ...       2510        591      14994      5123      8467      2510   \n",
       "3      0  ...     184270     130954      92215     11268      8196      6281   \n",
       "4      0  ...      19396      11643      11578      1400      1380      1181   \n",
       "\n",
       "   PAY_AMT4  PAY_AMT5  PAY_AMT6  default.payment.next.month  \n",
       "0      3015     23473      1148                           0  \n",
       "1         0         0         0                           0  \n",
       "2       591     14994      5000                           0  \n",
       "3      4403      3532      3510                           0  \n",
       "4      1000       500       500                           0  \n",
       "\n",
       "[5 rows x 24 columns]"
      ]
     },
     "execution_count": 4,
     "metadata": {},
     "output_type": "execute_result"
    }
   ],
   "source": [
    "credit_data.head()"
   ]
  },
  {
   "cell_type": "code",
   "execution_count": 5,
   "id": "handled-twenty",
   "metadata": {},
   "outputs": [
    {
     "data": {
      "text/plain": [
       "0.21933333333333332"
      ]
     },
     "execution_count": 5,
     "metadata": {},
     "output_type": "execute_result"
    }
   ],
   "source": [
    "#How many people were actually default in this sample?\n",
    "credit_data[\"default.payment.next.month\"].mean()"
   ]
  },
  {
   "cell_type": "code",
   "execution_count": 6,
   "id": "distant-refrigerator",
   "metadata": {},
   "outputs": [],
   "source": [
    "# Renamimg column\n",
    "credit_data.rename(columns={'default.payment.next.month':'DEFAULT'}, inplace=True)"
   ]
  },
  {
   "cell_type": "code",
   "execution_count": 7,
   "id": "growing-permit",
   "metadata": {},
   "outputs": [
    {
     "name": "stdout",
     "output_type": "stream",
     "text": [
      "<class 'pandas.core.frame.DataFrame'>\n",
      "RangeIndex: 12000 entries, 0 to 11999\n",
      "Data columns (total 24 columns):\n",
      " #   Column     Non-Null Count  Dtype\n",
      "---  ------     --------------  -----\n",
      " 0   LIMIT_BAL  12000 non-null  int64\n",
      " 1   SEX        12000 non-null  int64\n",
      " 2   EDUCATION  12000 non-null  int64\n",
      " 3   MARRIAGE   12000 non-null  int64\n",
      " 4   AGE        12000 non-null  int64\n",
      " 5   PAY_0      12000 non-null  int64\n",
      " 6   PAY_2      12000 non-null  int64\n",
      " 7   PAY_3      12000 non-null  int64\n",
      " 8   PAY_4      12000 non-null  int64\n",
      " 9   PAY_5      12000 non-null  int64\n",
      " 10  PAY_6      12000 non-null  int64\n",
      " 11  BILL_AMT1  12000 non-null  int64\n",
      " 12  BILL_AMT2  12000 non-null  int64\n",
      " 13  BILL_AMT3  12000 non-null  int64\n",
      " 14  BILL_AMT4  12000 non-null  int64\n",
      " 15  BILL_AMT5  12000 non-null  int64\n",
      " 16  BILL_AMT6  12000 non-null  int64\n",
      " 17  PAY_AMT1   12000 non-null  int64\n",
      " 18  PAY_AMT2   12000 non-null  int64\n",
      " 19  PAY_AMT3   12000 non-null  int64\n",
      " 20  PAY_AMT4   12000 non-null  int64\n",
      " 21  PAY_AMT5   12000 non-null  int64\n",
      " 22  PAY_AMT6   12000 non-null  int64\n",
      " 23  DEFAULT    12000 non-null  int64\n",
      "dtypes: int64(24)\n",
      "memory usage: 2.2 MB\n"
     ]
    }
   ],
   "source": [
    "#How about the variable type and summary statistics?\n",
    "credit_data.info()"
   ]
  },
  {
   "cell_type": "code",
   "execution_count": 8,
   "id": "retired-scientist",
   "metadata": {},
   "outputs": [
    {
     "data": {
      "text/html": [
       "<div>\n",
       "<style scoped>\n",
       "    .dataframe tbody tr th:only-of-type {\n",
       "        vertical-align: middle;\n",
       "    }\n",
       "\n",
       "    .dataframe tbody tr th {\n",
       "        vertical-align: top;\n",
       "    }\n",
       "\n",
       "    .dataframe thead th {\n",
       "        text-align: right;\n",
       "    }\n",
       "</style>\n",
       "<table border=\"1\" class=\"dataframe\">\n",
       "  <thead>\n",
       "    <tr style=\"text-align: right;\">\n",
       "      <th></th>\n",
       "      <th>LIMIT_BAL</th>\n",
       "      <th>SEX</th>\n",
       "      <th>EDUCATION</th>\n",
       "      <th>MARRIAGE</th>\n",
       "      <th>AGE</th>\n",
       "      <th>PAY_0</th>\n",
       "      <th>PAY_2</th>\n",
       "      <th>PAY_3</th>\n",
       "      <th>PAY_4</th>\n",
       "      <th>PAY_5</th>\n",
       "      <th>...</th>\n",
       "      <th>BILL_AMT4</th>\n",
       "      <th>BILL_AMT5</th>\n",
       "      <th>BILL_AMT6</th>\n",
       "      <th>PAY_AMT1</th>\n",
       "      <th>PAY_AMT2</th>\n",
       "      <th>PAY_AMT3</th>\n",
       "      <th>PAY_AMT4</th>\n",
       "      <th>PAY_AMT5</th>\n",
       "      <th>PAY_AMT6</th>\n",
       "      <th>DEFAULT</th>\n",
       "    </tr>\n",
       "  </thead>\n",
       "  <tbody>\n",
       "    <tr>\n",
       "      <th>count</th>\n",
       "      <td>12000.000000</td>\n",
       "      <td>12000.000000</td>\n",
       "      <td>12000.000000</td>\n",
       "      <td>12000.000000</td>\n",
       "      <td>12000.000000</td>\n",
       "      <td>12000.000000</td>\n",
       "      <td>12000.000000</td>\n",
       "      <td>12000.000000</td>\n",
       "      <td>12000.000000</td>\n",
       "      <td>12000.000000</td>\n",
       "      <td>...</td>\n",
       "      <td>12000.000000</td>\n",
       "      <td>12000.000000</td>\n",
       "      <td>12000.000000</td>\n",
       "      <td>12000.000000</td>\n",
       "      <td>1.200000e+04</td>\n",
       "      <td>12000.000000</td>\n",
       "      <td>12000.000000</td>\n",
       "      <td>12000.000000</td>\n",
       "      <td>12000.000000</td>\n",
       "      <td>12000.000000</td>\n",
       "    </tr>\n",
       "    <tr>\n",
       "      <th>mean</th>\n",
       "      <td>167501.333333</td>\n",
       "      <td>1.602917</td>\n",
       "      <td>1.844333</td>\n",
       "      <td>1.551500</td>\n",
       "      <td>35.499667</td>\n",
       "      <td>-0.015750</td>\n",
       "      <td>-0.128000</td>\n",
       "      <td>-0.166667</td>\n",
       "      <td>-0.225583</td>\n",
       "      <td>-0.267833</td>\n",
       "      <td>...</td>\n",
       "      <td>43101.557667</td>\n",
       "      <td>40314.199833</td>\n",
       "      <td>38821.438833</td>\n",
       "      <td>5766.057333</td>\n",
       "      <td>6.250060e+03</td>\n",
       "      <td>5194.665167</td>\n",
       "      <td>4878.389417</td>\n",
       "      <td>4868.498167</td>\n",
       "      <td>5432.712083</td>\n",
       "      <td>0.219333</td>\n",
       "    </tr>\n",
       "    <tr>\n",
       "      <th>std</th>\n",
       "      <td>130334.212375</td>\n",
       "      <td>0.489314</td>\n",
       "      <td>0.745306</td>\n",
       "      <td>0.520772</td>\n",
       "      <td>9.226480</td>\n",
       "      <td>1.128616</td>\n",
       "      <td>1.192645</td>\n",
       "      <td>1.187226</td>\n",
       "      <td>1.152522</td>\n",
       "      <td>1.123478</td>\n",
       "      <td>...</td>\n",
       "      <td>64429.407522</td>\n",
       "      <td>61042.768474</td>\n",
       "      <td>59611.508898</td>\n",
       "      <td>15989.660757</td>\n",
       "      <td>2.362472e+04</td>\n",
       "      <td>17820.014810</td>\n",
       "      <td>15569.863239</td>\n",
       "      <td>15279.952500</td>\n",
       "      <td>19044.129946</td>\n",
       "      <td>0.413812</td>\n",
       "    </tr>\n",
       "    <tr>\n",
       "      <th>min</th>\n",
       "      <td>10000.000000</td>\n",
       "      <td>1.000000</td>\n",
       "      <td>1.000000</td>\n",
       "      <td>1.000000</td>\n",
       "      <td>21.000000</td>\n",
       "      <td>-2.000000</td>\n",
       "      <td>-2.000000</td>\n",
       "      <td>-2.000000</td>\n",
       "      <td>-2.000000</td>\n",
       "      <td>-2.000000</td>\n",
       "      <td>...</td>\n",
       "      <td>-81334.000000</td>\n",
       "      <td>-81334.000000</td>\n",
       "      <td>-339603.000000</td>\n",
       "      <td>0.000000</td>\n",
       "      <td>0.000000e+00</td>\n",
       "      <td>0.000000</td>\n",
       "      <td>0.000000</td>\n",
       "      <td>0.000000</td>\n",
       "      <td>0.000000</td>\n",
       "      <td>0.000000</td>\n",
       "    </tr>\n",
       "    <tr>\n",
       "      <th>25%</th>\n",
       "      <td>50000.000000</td>\n",
       "      <td>1.000000</td>\n",
       "      <td>1.000000</td>\n",
       "      <td>1.000000</td>\n",
       "      <td>28.000000</td>\n",
       "      <td>-1.000000</td>\n",
       "      <td>-1.000000</td>\n",
       "      <td>-1.000000</td>\n",
       "      <td>-1.000000</td>\n",
       "      <td>-1.000000</td>\n",
       "      <td>...</td>\n",
       "      <td>2411.000000</td>\n",
       "      <td>1863.250000</td>\n",
       "      <td>1308.750000</td>\n",
       "      <td>1000.000000</td>\n",
       "      <td>9.447500e+02</td>\n",
       "      <td>400.000000</td>\n",
       "      <td>300.000000</td>\n",
       "      <td>300.000000</td>\n",
       "      <td>142.750000</td>\n",
       "      <td>0.000000</td>\n",
       "    </tr>\n",
       "    <tr>\n",
       "      <th>50%</th>\n",
       "      <td>140000.000000</td>\n",
       "      <td>2.000000</td>\n",
       "      <td>2.000000</td>\n",
       "      <td>2.000000</td>\n",
       "      <td>34.000000</td>\n",
       "      <td>0.000000</td>\n",
       "      <td>0.000000</td>\n",
       "      <td>0.000000</td>\n",
       "      <td>0.000000</td>\n",
       "      <td>0.000000</td>\n",
       "      <td>...</td>\n",
       "      <td>19077.500000</td>\n",
       "      <td>18244.000000</td>\n",
       "      <td>17130.000000</td>\n",
       "      <td>2128.000000</td>\n",
       "      <td>2.013000e+03</td>\n",
       "      <td>1827.000000</td>\n",
       "      <td>1500.000000</td>\n",
       "      <td>1518.000000</td>\n",
       "      <td>1500.000000</td>\n",
       "      <td>0.000000</td>\n",
       "    </tr>\n",
       "    <tr>\n",
       "      <th>75%</th>\n",
       "      <td>240000.000000</td>\n",
       "      <td>2.000000</td>\n",
       "      <td>2.000000</td>\n",
       "      <td>2.000000</td>\n",
       "      <td>41.000000</td>\n",
       "      <td>0.000000</td>\n",
       "      <td>0.000000</td>\n",
       "      <td>0.000000</td>\n",
       "      <td>0.000000</td>\n",
       "      <td>0.000000</td>\n",
       "      <td>...</td>\n",
       "      <td>53117.250000</td>\n",
       "      <td>49927.250000</td>\n",
       "      <td>48938.000000</td>\n",
       "      <td>5006.000000</td>\n",
       "      <td>5.000000e+03</td>\n",
       "      <td>4505.000000</td>\n",
       "      <td>4078.500000</td>\n",
       "      <td>4120.750000</td>\n",
       "      <td>4061.750000</td>\n",
       "      <td>0.000000</td>\n",
       "    </tr>\n",
       "    <tr>\n",
       "      <th>max</th>\n",
       "      <td>1000000.000000</td>\n",
       "      <td>2.000000</td>\n",
       "      <td>4.000000</td>\n",
       "      <td>3.000000</td>\n",
       "      <td>79.000000</td>\n",
       "      <td>8.000000</td>\n",
       "      <td>7.000000</td>\n",
       "      <td>7.000000</td>\n",
       "      <td>7.000000</td>\n",
       "      <td>7.000000</td>\n",
       "      <td>...</td>\n",
       "      <td>891586.000000</td>\n",
       "      <td>927171.000000</td>\n",
       "      <td>961664.000000</td>\n",
       "      <td>493358.000000</td>\n",
       "      <td>1.227082e+06</td>\n",
       "      <td>896040.000000</td>\n",
       "      <td>432130.000000</td>\n",
       "      <td>426529.000000</td>\n",
       "      <td>528666.000000</td>\n",
       "      <td>1.000000</td>\n",
       "    </tr>\n",
       "  </tbody>\n",
       "</table>\n",
       "<p>8 rows × 24 columns</p>\n",
       "</div>"
      ],
      "text/plain": [
       "            LIMIT_BAL           SEX     EDUCATION      MARRIAGE           AGE  \\\n",
       "count    12000.000000  12000.000000  12000.000000  12000.000000  12000.000000   \n",
       "mean    167501.333333      1.602917      1.844333      1.551500     35.499667   \n",
       "std     130334.212375      0.489314      0.745306      0.520772      9.226480   \n",
       "min      10000.000000      1.000000      1.000000      1.000000     21.000000   \n",
       "25%      50000.000000      1.000000      1.000000      1.000000     28.000000   \n",
       "50%     140000.000000      2.000000      2.000000      2.000000     34.000000   \n",
       "75%     240000.000000      2.000000      2.000000      2.000000     41.000000   \n",
       "max    1000000.000000      2.000000      4.000000      3.000000     79.000000   \n",
       "\n",
       "              PAY_0         PAY_2         PAY_3         PAY_4         PAY_5  \\\n",
       "count  12000.000000  12000.000000  12000.000000  12000.000000  12000.000000   \n",
       "mean      -0.015750     -0.128000     -0.166667     -0.225583     -0.267833   \n",
       "std        1.128616      1.192645      1.187226      1.152522      1.123478   \n",
       "min       -2.000000     -2.000000     -2.000000     -2.000000     -2.000000   \n",
       "25%       -1.000000     -1.000000     -1.000000     -1.000000     -1.000000   \n",
       "50%        0.000000      0.000000      0.000000      0.000000      0.000000   \n",
       "75%        0.000000      0.000000      0.000000      0.000000      0.000000   \n",
       "max        8.000000      7.000000      7.000000      7.000000      7.000000   \n",
       "\n",
       "       ...      BILL_AMT4      BILL_AMT5      BILL_AMT6       PAY_AMT1  \\\n",
       "count  ...   12000.000000   12000.000000   12000.000000   12000.000000   \n",
       "mean   ...   43101.557667   40314.199833   38821.438833    5766.057333   \n",
       "std    ...   64429.407522   61042.768474   59611.508898   15989.660757   \n",
       "min    ...  -81334.000000  -81334.000000 -339603.000000       0.000000   \n",
       "25%    ...    2411.000000    1863.250000    1308.750000    1000.000000   \n",
       "50%    ...   19077.500000   18244.000000   17130.000000    2128.000000   \n",
       "75%    ...   53117.250000   49927.250000   48938.000000    5006.000000   \n",
       "max    ...  891586.000000  927171.000000  961664.000000  493358.000000   \n",
       "\n",
       "           PAY_AMT2       PAY_AMT3       PAY_AMT4       PAY_AMT5  \\\n",
       "count  1.200000e+04   12000.000000   12000.000000   12000.000000   \n",
       "mean   6.250060e+03    5194.665167    4878.389417    4868.498167   \n",
       "std    2.362472e+04   17820.014810   15569.863239   15279.952500   \n",
       "min    0.000000e+00       0.000000       0.000000       0.000000   \n",
       "25%    9.447500e+02     400.000000     300.000000     300.000000   \n",
       "50%    2.013000e+03    1827.000000    1500.000000    1518.000000   \n",
       "75%    5.000000e+03    4505.000000    4078.500000    4120.750000   \n",
       "max    1.227082e+06  896040.000000  432130.000000  426529.000000   \n",
       "\n",
       "            PAY_AMT6       DEFAULT  \n",
       "count   12000.000000  12000.000000  \n",
       "mean     5432.712083      0.219333  \n",
       "std     19044.129946      0.413812  \n",
       "min         0.000000      0.000000  \n",
       "25%       142.750000      0.000000  \n",
       "50%      1500.000000      0.000000  \n",
       "75%      4061.750000      0.000000  \n",
       "max    528666.000000      1.000000  \n",
       "\n",
       "[8 rows x 24 columns]"
      ]
     },
     "execution_count": 8,
     "metadata": {},
     "output_type": "execute_result"
    }
   ],
   "source": [
    "credit_data.describe()"
   ]
  },
  {
   "cell_type": "code",
   "execution_count": 9,
   "id": "integrated-accounting",
   "metadata": {},
   "outputs": [],
   "source": [
    "# SEX, EDUCATION, MARRIAGE are categorical, we convert them to factor\n",
    "\n",
    "credit_data[\"SEX\"] = credit_data[\"SEX\"].astype('category')\n",
    "credit_data[\"EDUCATION\"] = credit_data[\"EDUCATION\"].astype('category')\n",
    "credit_data[\"MARRIAGE\"] = credit_data[\"MARRIAGE\"].astype('category')"
   ]
  },
  {
   "cell_type": "code",
   "execution_count": 10,
   "id": "racial-criminal",
   "metadata": {},
   "outputs": [
    {
     "data": {
      "text/plain": [
       "LIMIT_BAL       int64\n",
       "SEX          category\n",
       "EDUCATION    category\n",
       "MARRIAGE     category\n",
       "AGE             int64\n",
       "PAY_0           int64\n",
       "PAY_2           int64\n",
       "PAY_3           int64\n",
       "PAY_4           int64\n",
       "PAY_5           int64\n",
       "PAY_6           int64\n",
       "BILL_AMT1       int64\n",
       "BILL_AMT2       int64\n",
       "BILL_AMT3       int64\n",
       "BILL_AMT4       int64\n",
       "BILL_AMT5       int64\n",
       "BILL_AMT6       int64\n",
       "PAY_AMT1        int64\n",
       "PAY_AMT2        int64\n",
       "PAY_AMT3        int64\n",
       "PAY_AMT4        int64\n",
       "PAY_AMT5        int64\n",
       "PAY_AMT6        int64\n",
       "DEFAULT         int64\n",
       "dtype: object"
      ]
     },
     "execution_count": 10,
     "metadata": {},
     "output_type": "execute_result"
    }
   ],
   "source": [
    "credit_data.dtypes"
   ]
  },
  {
   "cell_type": "markdown",
   "id": "rapid-holmes",
   "metadata": {},
   "source": [
    "### Exploratory data analysis"
   ]
  },
  {
   "cell_type": "markdown",
   "id": "multiple-personality",
   "metadata": {},
   "source": [
    "#### Histogram of Limit_balance predictor"
   ]
  },
  {
   "cell_type": "code",
   "execution_count": 43,
   "id": "speaking-basics",
   "metadata": {},
   "outputs": [
    {
     "data": {
      "image/png": "[encoded data removed]",
      "text/plain": [
       "<Figure size 432x288 with 1 Axes>"
      ]
     },
     "metadata": {
      "needs_background": "light"
     },
     "output_type": "display_data"
    }
   ],
   "source": [
    "plt.hist(credit_data['LIMIT_BAL'], color='lime' ,edgecolor = 'black')\n",
    "plt.show()"
   ]
  },
  {
   "cell_type": "code",
   "execution_count": 69,
   "id": "growing-sodium",
   "metadata": {},
   "outputs": [
    {
     "data": {
      "text/html": [
       "<div>\n",
       "<style scoped>\n",
       "    .dataframe tbody tr th:only-of-type {\n",
       "        vertical-align: middle;\n",
       "    }\n",
       "\n",
       "    .dataframe tbody tr th {\n",
       "        vertical-align: top;\n",
       "    }\n",
       "\n",
       "    .dataframe thead th {\n",
       "        text-align: right;\n",
       "    }\n",
       "</style>\n",
       "<table border=\"1\" class=\"dataframe\">\n",
       "  <thead>\n",
       "    <tr style=\"text-align: right;\">\n",
       "      <th></th>\n",
       "      <th></th>\n",
       "      <th>DEFAULT</th>\n",
       "    </tr>\n",
       "    <tr>\n",
       "      <th>SEX</th>\n",
       "      <th>DEFAULT</th>\n",
       "      <th></th>\n",
       "    </tr>\n",
       "  </thead>\n",
       "  <tbody>\n",
       "    <tr>\n",
       "      <th rowspan=\"2\" valign=\"top\">1</th>\n",
       "      <th>0</th>\n",
       "      <td>3603</td>\n",
       "    </tr>\n",
       "    <tr>\n",
       "      <th>1</th>\n",
       "      <td>1162</td>\n",
       "    </tr>\n",
       "    <tr>\n",
       "      <th rowspan=\"2\" valign=\"top\">2</th>\n",
       "      <th>0</th>\n",
       "      <td>5765</td>\n",
       "    </tr>\n",
       "    <tr>\n",
       "      <th>1</th>\n",
       "      <td>1470</td>\n",
       "    </tr>\n",
       "  </tbody>\n",
       "</table>\n",
       "</div>"
      ],
      "text/plain": [
       "             DEFAULT\n",
       "SEX DEFAULT         \n",
       "1   0           3603\n",
       "    1           1162\n",
       "2   0           5765\n",
       "    1           1470"
      ]
     },
     "execution_count": 69,
     "metadata": {},
     "output_type": "execute_result"
    }
   ],
   "source": [
    "df = pd.DataFrame(credit_data.groupby([\"SEX\",\"DEFAULT\"])[\"DEFAULT\"].count())\n",
    "df"
   ]
  },
  {
   "cell_type": "code",
   "execution_count": 67,
   "id": "ultimate-roads",
   "metadata": {},
   "outputs": [
    {
     "data": {
      "image/png": "[encoded data removed]",
      "text/plain": [
       "<Figure size 576x432 with 1 Axes>"
      ]
     },
     "metadata": {
      "needs_background": "light"
     },
     "output_type": "display_data"
    }
   ],
   "source": [
    "plotdata = pd.DataFrame({\n",
    "    \"0\":[3603,5765],\n",
    "    \"1\":[1162,1470 ],\n",
    "    }, \n",
    "    index=['1', '2']\n",
    ")\n",
    "\n",
    "plotdata.plot(kind=\"bar\", figsize=(8,6))\n",
    "plt.xticks(rotation = 0)\n",
    "plt.ylabel(\"Count\", fontsize=14)\n",
    "plt.show()"
   ]
  },
  {
   "cell_type": "code",
   "execution_count": 71,
   "id": "clear-polish",
   "metadata": {},
   "outputs": [
    {
     "data": {
      "image/png": "[encoded data removed]",
      "text/plain": [
       "<Figure size 576x432 with 1 Axes>"
      ]
     },
     "metadata": {
      "needs_background": "light"
     },
     "output_type": "display_data"
    }
   ],
   "source": [
    "plt.figure(figsize = (8,6))\n",
    "plt.scatter(x=credit_data['AGE'], y=credit_data[\"LIMIT_BAL\"])\n",
    "\n",
    "plt.xlabel(\"Age\")\n",
    "plt.ylabel(\"Limit Balance\")\n",
    "plt.show()"
   ]
  },
  {
   "cell_type": "markdown",
   "id": "technological-visiting",
   "metadata": {},
   "source": [
    "### Logistic Regression"
   ]
  },
  {
   "cell_type": "markdown",
   "id": "fifteen-malawi",
   "metadata": {},
   "source": [
    "#### Randomly split the data to training (80%) and testing (20%) datasets"
   ]
  },
  {
   "cell_type": "code",
   "execution_count": 12,
   "id": "affected-venue",
   "metadata": {},
   "outputs": [],
   "source": [
    "from sklearn.model_selection import train_test_split\n",
    "from random import sample\n",
    "import random\n",
    "random.seed(123)"
   ]
  },
  {
   "cell_type": "code",
   "execution_count": 13,
   "id": "blind-antique",
   "metadata": {},
   "outputs": [],
   "source": [
    "#for statmodels smf function (explained in Model Building section)\n",
    "num = list(range(len(credit_data)))\n",
    "ran = sample(num, int(len(num)*0.8))\n",
    "rem = [i for i in num if i not in ran] \n",
    "\n",
    "credit_train = credit_data.iloc[ran, :]\n",
    "credit_test = credit_data.iloc[rem, :]\n",
    "\n",
    "#for sklearn LogisticRegression function \n",
    "\n",
    "X_train = credit_train.iloc[:,:-1]\n",
    "y_train = credit_train.iloc[:,-1:]\n",
    "\n",
    "X_test = credit_test.iloc[:,:-1]\n",
    "y_test = credit_test.iloc[:,-1:]"
   ]
  },
  {
   "cell_type": "markdown",
   "id": "secret-trunk",
   "metadata": {},
   "source": [
    "#### 3.1 Train a logistic regression model with all variables"
   ]
  },
  {
   "cell_type": "code",
   "execution_count": 14,
   "id": "mobile-three",
   "metadata": {},
   "outputs": [
    {
     "data": {
      "text/html": [
       "<table class=\"simpletable\">\n",
       "<caption>Generalized Linear Model Regression Results</caption>\n",
       "<tr>\n",
       "  <th>Dep. Variable:</th>        <td>DEFAULT</td>     <th>  No. Observations:  </th>  <td>  9600</td> \n",
       "</tr>\n",
       "<tr>\n",
       "  <th>Model:</th>                  <td>GLM</td>       <th>  Df Residuals:      </th>  <td>  9573</td> \n",
       "</tr>\n",
       "<tr>\n",
       "  <th>Model Family:</th>        <td>Binomial</td>     <th>  Df Model:          </th>  <td>    26</td> \n",
       "</tr>\n",
       "<tr>\n",
       "  <th>Link Function:</th>         <td>logit</td>      <th>  Scale:             </th> <td>  1.0000</td>\n",
       "</tr>\n",
       "<tr>\n",
       "  <th>Method:</th>                <td>IRLS</td>       <th>  Log-Likelihood:    </th> <td> -4348.0</td>\n",
       "</tr>\n",
       "<tr>\n",
       "  <th>Date:</th>            <td>Thu, 03 Jun 2021</td> <th>  Deviance:          </th> <td>  8696.0</td>\n",
       "</tr>\n",
       "<tr>\n",
       "  <th>Time:</th>                <td>14:31:11</td>     <th>  Pearson chi2:      </th> <td>1.14e+04</td>\n",
       "</tr>\n",
       "<tr>\n",
       "  <th>No. Iterations:</th>          <td>6</td>        <th>                     </th>     <td> </td>   \n",
       "</tr>\n",
       "<tr>\n",
       "  <th>Covariance Type:</th>     <td>nonrobust</td>    <th>                     </th>     <td> </td>   \n",
       "</tr>\n",
       "</table>\n",
       "<table class=\"simpletable\">\n",
       "<tr>\n",
       "         <td></td>           <th>coef</th>     <th>std err</th>      <th>z</th>      <th>P>|z|</th>  <th>[0.025</th>    <th>0.975]</th>  \n",
       "</tr>\n",
       "<tr>\n",
       "  <th>Intercept</th>      <td>   -0.8211</td> <td>    0.156</td> <td>   -5.271</td> <td> 0.000</td> <td>   -1.126</td> <td>   -0.516</td>\n",
       "</tr>\n",
       "<tr>\n",
       "  <th>SEX[T.2]</th>       <td>   -0.1580</td> <td>    0.055</td> <td>   -2.874</td> <td> 0.004</td> <td>   -0.266</td> <td>   -0.050</td>\n",
       "</tr>\n",
       "<tr>\n",
       "  <th>EDUCATION[T.2]</th> <td>   -0.2150</td> <td>    0.064</td> <td>   -3.383</td> <td> 0.001</td> <td>   -0.340</td> <td>   -0.090</td>\n",
       "</tr>\n",
       "<tr>\n",
       "  <th>EDUCATION[T.3]</th> <td>   -0.2688</td> <td>    0.086</td> <td>   -3.114</td> <td> 0.002</td> <td>   -0.438</td> <td>   -0.100</td>\n",
       "</tr>\n",
       "<tr>\n",
       "  <th>EDUCATION[T.4]</th> <td>   -1.6097</td> <td>    0.387</td> <td>   -4.161</td> <td> 0.000</td> <td>   -2.368</td> <td>   -0.852</td>\n",
       "</tr>\n",
       "<tr>\n",
       "  <th>MARRIAGE[T.2]</th>  <td>   -0.1923</td> <td>    0.063</td> <td>   -3.072</td> <td> 0.002</td> <td>   -0.315</td> <td>   -0.070</td>\n",
       "</tr>\n",
       "<tr>\n",
       "  <th>MARRIAGE[T.3]</th>  <td>    0.0996</td> <td>    0.237</td> <td>    0.420</td> <td> 0.675</td> <td>   -0.365</td> <td>    0.565</td>\n",
       "</tr>\n",
       "<tr>\n",
       "  <th>LIMIT_BAL</th>      <td>-1.299e-06</td> <td> 2.93e-07</td> <td>   -4.431</td> <td> 0.000</td> <td>-1.87e-06</td> <td>-7.25e-07</td>\n",
       "</tr>\n",
       "<tr>\n",
       "  <th>AGE</th>            <td>    0.0045</td> <td>    0.003</td> <td>    1.334</td> <td> 0.182</td> <td>   -0.002</td> <td>    0.011</td>\n",
       "</tr>\n",
       "<tr>\n",
       "  <th>PAY_0</th>          <td>    0.5916</td> <td>    0.032</td> <td>   18.417</td> <td> 0.000</td> <td>    0.529</td> <td>    0.655</td>\n",
       "</tr>\n",
       "<tr>\n",
       "  <th>PAY_2</th>          <td>    0.1158</td> <td>    0.036</td> <td>    3.213</td> <td> 0.001</td> <td>    0.045</td> <td>    0.187</td>\n",
       "</tr>\n",
       "<tr>\n",
       "  <th>PAY_3</th>          <td>    0.0184</td> <td>    0.041</td> <td>    0.450</td> <td> 0.652</td> <td>   -0.062</td> <td>    0.098</td>\n",
       "</tr>\n",
       "<tr>\n",
       "  <th>PAY_4</th>          <td>    0.0609</td> <td>    0.046</td> <td>    1.335</td> <td> 0.182</td> <td>   -0.028</td> <td>    0.150</td>\n",
       "</tr>\n",
       "<tr>\n",
       "  <th>PAY_5</th>          <td>    0.0488</td> <td>    0.047</td> <td>    1.027</td> <td> 0.304</td> <td>   -0.044</td> <td>    0.142</td>\n",
       "</tr>\n",
       "<tr>\n",
       "  <th>PAY_6</th>          <td>   -0.0054</td> <td>    0.040</td> <td>   -0.135</td> <td> 0.893</td> <td>   -0.084</td> <td>    0.073</td>\n",
       "</tr>\n",
       "<tr>\n",
       "  <th>BILL_AMT1</th>      <td>-6.222e-06</td> <td> 2.11e-06</td> <td>   -2.950</td> <td> 0.003</td> <td>-1.04e-05</td> <td>-2.09e-06</td>\n",
       "</tr>\n",
       "<tr>\n",
       "  <th>BILL_AMT2</th>      <td> 3.088e-06</td> <td> 2.76e-06</td> <td>    1.120</td> <td> 0.263</td> <td>-2.32e-06</td> <td> 8.49e-06</td>\n",
       "</tr>\n",
       "<tr>\n",
       "  <th>BILL_AMT3</th>      <td> 3.658e-06</td> <td> 2.26e-06</td> <td>    1.619</td> <td> 0.106</td> <td>-7.71e-07</td> <td> 8.09e-06</td>\n",
       "</tr>\n",
       "<tr>\n",
       "  <th>BILL_AMT4</th>      <td>-4.167e-06</td> <td> 2.41e-06</td> <td>   -1.729</td> <td> 0.084</td> <td>-8.89e-06</td> <td> 5.58e-07</td>\n",
       "</tr>\n",
       "<tr>\n",
       "  <th>BILL_AMT5</th>      <td> 3.935e-06</td> <td>  2.7e-06</td> <td>    1.458</td> <td> 0.145</td> <td>-1.35e-06</td> <td> 9.22e-06</td>\n",
       "</tr>\n",
       "<tr>\n",
       "  <th>BILL_AMT6</th>      <td>-9.163e-07</td> <td> 2.09e-06</td> <td>   -0.438</td> <td> 0.661</td> <td>-5.02e-06</td> <td> 3.18e-06</td>\n",
       "</tr>\n",
       "<tr>\n",
       "  <th>PAY_AMT1</th>       <td>-1.134e-05</td> <td> 3.69e-06</td> <td>   -3.068</td> <td> 0.002</td> <td>-1.86e-05</td> <td> -4.1e-06</td>\n",
       "</tr>\n",
       "<tr>\n",
       "  <th>PAY_AMT2</th>       <td>-1.359e-05</td> <td> 3.93e-06</td> <td>   -3.454</td> <td> 0.001</td> <td>-2.13e-05</td> <td>-5.88e-06</td>\n",
       "</tr>\n",
       "<tr>\n",
       "  <th>PAY_AMT3</th>       <td> 1.184e-06</td> <td> 2.78e-06</td> <td>    0.426</td> <td> 0.670</td> <td>-4.27e-06</td> <td> 6.63e-06</td>\n",
       "</tr>\n",
       "<tr>\n",
       "  <th>PAY_AMT4</th>       <td>-4.605e-06</td> <td> 3.07e-06</td> <td>   -1.500</td> <td> 0.134</td> <td>-1.06e-05</td> <td> 1.41e-06</td>\n",
       "</tr>\n",
       "<tr>\n",
       "  <th>PAY_AMT5</th>       <td>-8.431e-07</td> <td> 2.99e-06</td> <td>   -0.282</td> <td> 0.778</td> <td> -6.7e-06</td> <td> 5.02e-06</td>\n",
       "</tr>\n",
       "<tr>\n",
       "  <th>PAY_AMT6</th>       <td>-1.294e-06</td> <td> 2.03e-06</td> <td>   -0.639</td> <td> 0.523</td> <td>-5.27e-06</td> <td> 2.68e-06</td>\n",
       "</tr>\n",
       "</table>"
      ],
      "text/plain": [
       "<class 'statsmodels.iolib.summary.Summary'>\n",
       "\"\"\"\n",
       "                 Generalized Linear Model Regression Results                  \n",
       "==============================================================================\n",
       "Dep. Variable:                DEFAULT   No. Observations:                 9600\n",
       "Model:                            GLM   Df Residuals:                     9573\n",
       "Model Family:                Binomial   Df Model:                           26\n",
       "Link Function:                  logit   Scale:                          1.0000\n",
       "Method:                          IRLS   Log-Likelihood:                -4348.0\n",
       "Date:                Thu, 03 Jun 2021   Deviance:                       8696.0\n",
       "Time:                        14:31:11   Pearson chi2:                 1.14e+04\n",
       "No. Iterations:                     6                                         \n",
       "Covariance Type:            nonrobust                                         \n",
       "==================================================================================\n",
       "                     coef    std err          z      P>|z|      [0.025      0.975]\n",
       "----------------------------------------------------------------------------------\n",
       "Intercept         -0.8211      0.156     -5.271      0.000      -1.126      -0.516\n",
       "SEX[T.2]          -0.1580      0.055     -2.874      0.004      -0.266      -0.050\n",
       "EDUCATION[T.2]    -0.2150      0.064     -3.383      0.001      -0.340      -0.090\n",
       "EDUCATION[T.3]    -0.2688      0.086     -3.114      0.002      -0.438      -0.100\n",
       "EDUCATION[T.4]    -1.6097      0.387     -4.161      0.000      -2.368      -0.852\n",
       "MARRIAGE[T.2]     -0.1923      0.063     -3.072      0.002      -0.315      -0.070\n",
       "MARRIAGE[T.3]      0.0996      0.237      0.420      0.675      -0.365       0.565\n",
       "LIMIT_BAL      -1.299e-06   2.93e-07     -4.431      0.000   -1.87e-06   -7.25e-07\n",
       "AGE                0.0045      0.003      1.334      0.182      -0.002       0.011\n",
       "PAY_0              0.5916      0.032     18.417      0.000       0.529       0.655\n",
       "PAY_2              0.1158      0.036      3.213      0.001       0.045       0.187\n",
       "PAY_3              0.0184      0.041      0.450      0.652      -0.062       0.098\n",
       "PAY_4              0.0609      0.046      1.335      0.182      -0.028       0.150\n",
       "PAY_5              0.0488      0.047      1.027      0.304      -0.044       0.142\n",
       "PAY_6             -0.0054      0.040     -0.135      0.893      -0.084       0.073\n",
       "BILL_AMT1      -6.222e-06   2.11e-06     -2.950      0.003   -1.04e-05   -2.09e-06\n",
       "BILL_AMT2       3.088e-06   2.76e-06      1.120      0.263   -2.32e-06    8.49e-06\n",
       "BILL_AMT3       3.658e-06   2.26e-06      1.619      0.106   -7.71e-07    8.09e-06\n",
       "BILL_AMT4      -4.167e-06   2.41e-06     -1.729      0.084   -8.89e-06    5.58e-07\n",
       "BILL_AMT5       3.935e-06    2.7e-06      1.458      0.145   -1.35e-06    9.22e-06\n",
       "BILL_AMT6      -9.163e-07   2.09e-06     -0.438      0.661   -5.02e-06    3.18e-06\n",
       "PAY_AMT1       -1.134e-05   3.69e-06     -3.068      0.002   -1.86e-05    -4.1e-06\n",
       "PAY_AMT2       -1.359e-05   3.93e-06     -3.454      0.001   -2.13e-05   -5.88e-06\n",
       "PAY_AMT3        1.184e-06   2.78e-06      0.426      0.670   -4.27e-06    6.63e-06\n",
       "PAY_AMT4       -4.605e-06   3.07e-06     -1.500      0.134   -1.06e-05    1.41e-06\n",
       "PAY_AMT5       -8.431e-07   2.99e-06     -0.282      0.778    -6.7e-06    5.02e-06\n",
       "PAY_AMT6       -1.294e-06   2.03e-06     -0.639      0.523   -5.27e-06    2.68e-06\n",
       "==================================================================================\n",
       "\"\"\""
      ]
     },
     "execution_count": 14,
     "metadata": {},
     "output_type": "execute_result"
    }
   ],
   "source": [
    "import statsmodels.api as sm\n",
    "import statsmodels.formula.api as smf\n",
    "\n",
    "\n",
    "formula = 'DEFAULT ~ LIMIT_BAL + SEX + EDUCATION + MARRIAGE + AGE + PAY_0 + PAY_2 + PAY_3 +\\\n",
    "                      PAY_4 + PAY_5 + PAY_6 + BILL_AMT1 + BILL_AMT2 + BILL_AMT3 + BILL_AMT4 + BILL_AMT5 +\\\n",
    "                      BILL_AMT6 + PAY_AMT1 + PAY_AMT2 + PAY_AMT3 + PAY_AMT4 + PAY_AMT5 + PAY_AMT6'\n",
    "\n",
    "model1 = smf.glm(formula = formula, data = credit_train, family=sm.families.Binomial(link=sm.families.links.logit())).fit()\n",
    "model1.summary()"
   ]
  },
  {
   "cell_type": "markdown",
   "id": "connected-swiss",
   "metadata": {},
   "source": [
    "#### 2 Two-way contingency table and Chi-square test"
   ]
  },
  {
   "cell_type": "code",
   "execution_count": 15,
   "id": "sitting-contrast",
   "metadata": {},
   "outputs": [
    {
     "data": {
      "text/html": [
       "<div>\n",
       "<style scoped>\n",
       "    .dataframe tbody tr th:only-of-type {\n",
       "        vertical-align: middle;\n",
       "    }\n",
       "\n",
       "    .dataframe tbody tr th {\n",
       "        vertical-align: top;\n",
       "    }\n",
       "\n",
       "    .dataframe thead th {\n",
       "        text-align: right;\n",
       "    }\n",
       "</style>\n",
       "<table border=\"1\" class=\"dataframe\">\n",
       "  <thead>\n",
       "    <tr style=\"text-align: right;\">\n",
       "      <th>DEFAULT</th>\n",
       "      <th>0</th>\n",
       "      <th>1</th>\n",
       "    </tr>\n",
       "    <tr>\n",
       "      <th>EDUCATION</th>\n",
       "      <th></th>\n",
       "      <th></th>\n",
       "    </tr>\n",
       "  </thead>\n",
       "  <tbody>\n",
       "    <tr>\n",
       "      <th>1</th>\n",
       "      <td>3399</td>\n",
       "      <td>829</td>\n",
       "    </tr>\n",
       "    <tr>\n",
       "      <th>2</th>\n",
       "      <td>4298</td>\n",
       "      <td>1298</td>\n",
       "    </tr>\n",
       "    <tr>\n",
       "      <th>3</th>\n",
       "      <td>1501</td>\n",
       "      <td>491</td>\n",
       "    </tr>\n",
       "    <tr>\n",
       "      <th>4</th>\n",
       "      <td>170</td>\n",
       "      <td>14</td>\n",
       "    </tr>\n",
       "  </tbody>\n",
       "</table>\n",
       "</div>"
      ],
      "text/plain": [
       "DEFAULT       0     1\n",
       "EDUCATION            \n",
       "1          3399   829\n",
       "2          4298  1298\n",
       "3          1501   491\n",
       "4           170    14"
      ]
     },
     "execution_count": 15,
     "metadata": {},
     "output_type": "execute_result"
    }
   ],
   "source": [
    "table = pd.crosstab(credit_data['EDUCATION'], credit_data['DEFAULT'], margins = False)\n",
    "table"
   ]
  },
  {
   "cell_type": "code",
   "execution_count": 16,
   "id": "dense-handbook",
   "metadata": {},
   "outputs": [
    {
     "name": "stdout",
     "output_type": "stream",
     "text": [
      "p value is 1.1886213380397086e-10\n",
      "Dependent (reject H0)\n"
     ]
    }
   ],
   "source": [
    "from scipy.stats import chi2_contingency\n",
    "stat, p, dof, expected = chi2_contingency(table)\n",
    "\n",
    "\n",
    "\n",
    "# Null hypothesis(H0) : States that there is no relation between the variables.\n",
    "# Alternate hypothesis : States that there is a significant relation between the two.\n",
    "# interpret p-value\n",
    "alpha = 0.05\n",
    "print(\"p value is \" + str(p))\n",
    "if p <= alpha:\n",
    "    print('Dependent (reject H0)')\n",
    "else:\n",
    "    print('Independent (H0 holds true)')\n",
    "    \n",
    "#https://www.geeksforgeeks.org/python-pearsons-chi-square-test/"
   ]
  },
  {
   "cell_type": "markdown",
   "id": "basic-genius",
   "metadata": {},
   "source": [
    "### 3.2 Get some criteria of model fitting"
   ]
  },
  {
   "cell_type": "code",
   "execution_count": 17,
   "id": "fallen-switzerland",
   "metadata": {},
   "outputs": [
    {
     "data": {
      "text/plain": [
       "8695.986624256357"
      ]
     },
     "execution_count": 17,
     "metadata": {},
     "output_type": "execute_result"
    }
   ],
   "source": [
    "# in-sample residual deviance\n",
    "model1.deviance"
   ]
  },
  {
   "cell_type": "code",
   "execution_count": 18,
   "id": "pressing-medicare",
   "metadata": {},
   "outputs": [
    {
     "data": {
      "text/plain": [
       "8749.986624256357"
      ]
     },
     "execution_count": 18,
     "metadata": {},
     "output_type": "execute_result"
    }
   ],
   "source": [
    "model1.aic"
   ]
  },
  {
   "cell_type": "code",
   "execution_count": 19,
   "id": "cosmetic-boulder",
   "metadata": {},
   "outputs": [
    {
     "data": {
      "text/plain": [
       "-79083.81280312924"
      ]
     },
     "execution_count": 19,
     "metadata": {},
     "output_type": "execute_result"
    }
   ],
   "source": [
    "model1.bic"
   ]
  },
  {
   "cell_type": "markdown",
   "id": "agricultural-championship",
   "metadata": {},
   "source": [
    "### 3.3 Prediction"
   ]
  },
  {
   "cell_type": "code",
   "execution_count": 20,
   "id": "constitutional-destiny",
   "metadata": {},
   "outputs": [
    {
     "data": {
      "image/png": "[encoded data removed]",
      "text/plain": [
       "<Figure size 576x432 with 1 Axes>"
      ]
     },
     "metadata": {
      "needs_background": "light"
     },
     "output_type": "display_data"
    }
   ],
   "source": [
    "pred = model1.predict(credit_train, linear = True)\n",
    "\n",
    "plt.figure(figsize = (8,6))\n",
    "sns.distplot(pred, bins = 20, hist = True, kde = False)\n",
    "plt.show()"
   ]
  },
  {
   "cell_type": "code",
   "execution_count": 21,
   "id": "lesser-supplement",
   "metadata": {},
   "outputs": [
    {
     "data": {
      "image/png": "[encoded data removed]",
      "text/plain": [
       "<Figure size 576x432 with 1 Axes>"
      ]
     },
     "metadata": {
      "needs_background": "light"
     },
     "output_type": "display_data"
    }
   ],
   "source": [
    "pred = model1.predict(credit_train, linear = False)\n",
    "\n",
    "plt.figure(figsize = (8,6))\n",
    "sns.distplot(pred, bins = 20, hist = True, kde = False)\n",
    "plt.show()"
   ]
  },
  {
   "cell_type": "code",
   "execution_count": 22,
   "id": "organic-compiler",
   "metadata": {},
   "outputs": [
    {
     "data": {
      "text/plain": [
       "False    8819\n",
       "True      781\n",
       "dtype: int64"
      ]
     },
     "execution_count": 22,
     "metadata": {},
     "output_type": "execute_result"
    }
   ],
   "source": [
    "(model1.predict(credit_train, linear = False) > 0.5).value_counts()"
   ]
  },
  {
   "cell_type": "code",
   "execution_count": 23,
   "id": "electric-aluminum",
   "metadata": {},
   "outputs": [
    {
     "data": {
      "text/plain": [
       "False    5236\n",
       "True     4364\n",
       "dtype: int64"
      ]
     },
     "execution_count": 23,
     "metadata": {},
     "output_type": "execute_result"
    }
   ],
   "source": [
    "(model1.predict(credit_train, linear = False) > 0.2).value_counts()"
   ]
  },
  {
   "cell_type": "code",
   "execution_count": 24,
   "id": "center-photography",
   "metadata": {},
   "outputs": [
    {
     "data": {
      "text/plain": [
       "True     9599\n",
       "False       1\n",
       "dtype: int64"
      ]
     },
     "execution_count": 24,
     "metadata": {},
     "output_type": "execute_result"
    }
   ],
   "source": [
    "(model1.predict(credit_train, linear = False) > 0.0001).value_counts()"
   ]
  },
  {
   "cell_type": "markdown",
   "id": "scenic-vegetation",
   "metadata": {},
   "source": [
    "#### 3.2 Variable Selection"
   ]
  },
  {
   "cell_type": "markdown",
   "id": "strange-desktop",
   "metadata": {},
   "source": [
    "#### 3.2.1 Variable Selection with Stepwise Approach"
   ]
  },
  {
   "cell_type": "code",
   "execution_count": 38,
   "id": "therapeutic-leather",
   "metadata": {},
   "outputs": [],
   "source": [
    "#Forward Selection using AIC values\n",
    "\n",
    "def forward_selection(data, target):\n",
    "    \n",
    "    initial_features = data.columns.tolist()\n",
    "    best_features = []\n",
    "    \n",
    "    aic = sm.GLM(target, sm.add_constant(data[best_features]), \n",
    "                 family=sm.families.Binomial(link=sm.families.links.logit())).fit().aic\n",
    "    \n",
    "    aic_values = [aic]\n",
    "    \n",
    "    while (len(initial_features) > 0):\n",
    "        remaining_features = list(set(initial_features) - set(best_features))\n",
    "        new_aic = pd.Series(index = remaining_features)\n",
    "        \n",
    "        for new_column in remaining_features:\n",
    "            model = sm.GLM(target, sm.add_constant(data[best_features+[new_column]]), \n",
    "                    family=sm.families.Binomial(link=sm.families.links.logit())).fit()\n",
    "            new_aic[new_column] = model.aic\n",
    "        min_aic = new_aic.min()\n",
    "        \n",
    "        if(min_aic < aic):\n",
    "            aic = min_aic\n",
    "            aic_values.append(aic)\n",
    "            best_features.append(new_aic.idxmin())\n",
    "        else:\n",
    "            break\n",
    "    \n",
    "    final_AIC = sm.GLM(target, sm.add_constant(data[list(best_features)]),\n",
    "                    family=sm.families.Binomial(link=sm.families.links.logit())).fit().aic\n",
    "    \n",
    "    return best_features, final_AIC"
   ]
  },
  {
   "cell_type": "code",
   "execution_count": 39,
   "id": "express-command",
   "metadata": {},
   "outputs": [
    {
     "name": "stdout",
     "output_type": "stream",
     "text": [
      "The variable coefficients provided by the model are:\n",
      "['PAY_0', 'LIMIT_BAL', 'PAY_2', 'PAY_AMT2', 'EDUCATION', 'MARRIAGE', 'PAY_4', 'BILL_AMT1', 'SEX', 'PAY_AMT1', 'BILL_AMT3', 'AGE']\n",
      "\n",
      "Final AIC value for the model is:\n",
      "8746.689280433511\n"
     ]
    }
   ],
   "source": [
    "print('The variable coefficients provided by the model are:')\n",
    "print(forward_selection(X_train, y_train)[0])\n",
    "print('\\nFinal AIC value for the model is:')\n",
    "print(forward_selection(X_train, y_train)[1])"
   ]
  },
  {
   "cell_type": "code",
   "execution_count": 40,
   "id": "textile-richmond",
   "metadata": {},
   "outputs": [],
   "source": [
    "#Forward Selection using BIC values\n",
    "def forward_selection_bic(data, target):\n",
    "    \n",
    "    initial_features = data.columns.tolist()\n",
    "    best_features = []\n",
    "    \n",
    "    bic = sm.GLM(target, sm.add_constant(data[best_features]), \n",
    "                 family=sm.families.Binomial(link=sm.families.links.logit())).fit().bic\n",
    "    \n",
    "    bic_values = [bic]\n",
    "    \n",
    "    while (len(initial_features) > 0):\n",
    "        remaining_features = list(set(initial_features) - set(best_features))\n",
    "        new_bic = pd.Series(index = remaining_features)\n",
    "        \n",
    "        for new_column in remaining_features:\n",
    "            model = sm.GLM(target, sm.add_constant(data[best_features+[new_column]]), \n",
    "                    family=sm.families.Binomial(link=sm.families.links.logit())).fit()\n",
    "            new_bic[new_column] = model.bic\n",
    "        min_bic = new_bic.min()\n",
    "        \n",
    "        if(min_bic < bic):\n",
    "            bic = min_bic\n",
    "            bic_values.append(bic)\n",
    "            best_features.append(new_bic.idxmin())\n",
    "        else:\n",
    "            break\n",
    "    \n",
    "    final_BIC = sm.GLM(target, sm.add_constant(data[list(best_features)]),\n",
    "                    family=sm.families.Binomial(link=sm.families.links.logit())).fit().bic\n",
    "    \n",
    "    return best_features, final_BIC"
   ]
  },
  {
   "cell_type": "code",
   "execution_count": 41,
   "id": "becoming-stake",
   "metadata": {},
   "outputs": [
    {
     "name": "stdout",
     "output_type": "stream",
     "text": [
      "The variable coefficients provided by the model are:\n",
      "['PAY_0', 'LIMIT_BAL', 'PAY_2', 'PAY_AMT2', 'EDUCATION', 'MARRIAGE', 'PAY_4', 'BILL_AMT1']\n",
      "\n",
      "Final BIC value for the model is:\n",
      "-79193.86238865409\n"
     ]
    }
   ],
   "source": [
    "print('The variable coefficients provided by the model are:')\n",
    "print(forward_selection_bic(X_train, y_train)[0])\n",
    "print('\\nFinal BIC value for the model is:')\n",
    "print(forward_selection_bic(X_train, y_train)[1])"
   ]
  },
  {
   "cell_type": "markdown",
   "id": "final-point",
   "metadata": {},
   "source": [
    "#### 3.2.2 Variable selection with LASSO"
   ]
  },
  {
   "cell_type": "code",
   "execution_count": 29,
   "id": "adaptive-oasis",
   "metadata": {},
   "outputs": [],
   "source": [
    "from sklearn.linear_model import LogisticRegression"
   ]
  },
  {
   "cell_type": "code",
   "execution_count": 30,
   "id": "tested-fundamental",
   "metadata": {},
   "outputs": [
    {
     "data": {
      "text/plain": [
       "LogisticRegression(penalty='l1', solver='liblinear')"
      ]
     },
     "execution_count": 30,
     "metadata": {},
     "output_type": "execute_result"
    }
   ],
   "source": [
    "model_lasso = LogisticRegression(penalty='l1', solver = 'liblinear')\n",
    "model_lasso.fit(X_train, y_train)"
   ]
  },
  {
   "cell_type": "code",
   "execution_count": 31,
   "id": "military-sector",
   "metadata": {},
   "outputs": [
    {
     "name": "stdout",
     "output_type": "stream",
     "text": [
      "The variable coefficients provided by the lasso are:\n"
     ]
    },
    {
     "data": {
      "text/plain": [
       "LIMIT_BAL   -1.339431e-06\n",
       "SEX         -1.565355e-01\n",
       "EDUCATION   -1.837304e-01\n",
       "MARRIAGE    -1.511906e-01\n",
       "AGE          6.945543e-03\n",
       "PAY_0        5.907901e-01\n",
       "PAY_2        1.173894e-01\n",
       "PAY_3        1.938439e-02\n",
       "PAY_4        6.125223e-02\n",
       "PAY_5        4.487944e-02\n",
       "PAY_6       -5.234922e-04\n",
       "BILL_AMT1   -6.177792e-06\n",
       "BILL_AMT2    2.986296e-06\n",
       "BILL_AMT3    3.510036e-06\n",
       "BILL_AMT4   -4.099073e-06\n",
       "BILL_AMT5    3.710575e-06\n",
       "BILL_AMT6   -6.250772e-07\n",
       "PAY_AMT1    -1.116544e-05\n",
       "PAY_AMT2    -1.361656e-05\n",
       "PAY_AMT3     9.945989e-07\n",
       "PAY_AMT4    -4.515431e-06\n",
       "PAY_AMT5    -1.096320e-06\n",
       "PAY_AMT6    -1.286941e-06\n",
       "dtype: float64"
      ]
     },
     "execution_count": 31,
     "metadata": {},
     "output_type": "execute_result"
    }
   ],
   "source": [
    "print('The variable coefficients provided by the lasso are:')\n",
    "coef = pd.Series(model_lasso.coef_[0], index = X_train.columns)\n",
    "coef"
   ]
  },
  {
   "cell_type": "markdown",
   "id": "julian-jewelry",
   "metadata": {},
   "source": [
    "#### 3.5.2.1 Prediction"
   ]
  },
  {
   "cell_type": "code",
   "execution_count": 32,
   "id": "unlike-juice",
   "metadata": {},
   "outputs": [],
   "source": [
    "# in-sample prediction\n",
    "train_pred = model_lasso.predict(X_train)\n",
    "\n",
    "# out-of-sample prediction\n",
    "test_pred = model_lasso.predict(X_test)"
   ]
  },
  {
   "cell_type": "markdown",
   "id": "numerical-philadelphia",
   "metadata": {},
   "source": [
    "#### 3.6 Cross validation"
   ]
  },
  {
   "cell_type": "code",
   "execution_count": 33,
   "id": "intellectual-grenada",
   "metadata": {},
   "outputs": [
    {
     "name": "stdout",
     "output_type": "stream",
     "text": [
      "The variable coefficients provided by the lasso are:\n"
     ]
    },
    {
     "data": {
      "text/plain": [
       "LIMIT_BAL   -1.359468e-06\n",
       "SEX         -1.623212e-01\n",
       "EDUCATION   -1.853775e-01\n",
       "MARRIAGE    -1.615607e-01\n",
       "AGE          6.155294e-03\n",
       "PAY_0        5.891616e-01\n",
       "PAY_2        1.170534e-01\n",
       "PAY_3        1.877310e-02\n",
       "PAY_4        6.080167e-02\n",
       "PAY_5        4.425530e-02\n",
       "PAY_6        0.000000e+00\n",
       "BILL_AMT1   -6.257315e-06\n",
       "BILL_AMT2    3.091192e-06\n",
       "BILL_AMT3    3.478870e-06\n",
       "BILL_AMT4   -4.076045e-06\n",
       "BILL_AMT5    3.704094e-06\n",
       "BILL_AMT6   -6.193329e-07\n",
       "PAY_AMT1    -1.126947e-05\n",
       "PAY_AMT2    -1.364206e-05\n",
       "PAY_AMT3     9.719721e-07\n",
       "PAY_AMT4    -4.526499e-06\n",
       "PAY_AMT5    -1.110335e-06\n",
       "PAY_AMT6    -1.288744e-06\n",
       "dtype: float64"
      ]
     },
     "execution_count": 33,
     "metadata": {},
     "output_type": "execute_result"
    }
   ],
   "source": [
    "from sklearn.linear_model import LogisticRegressionCV\n",
    "\n",
    "model_lassocv = LogisticRegressionCV(cv = 5, penalty='l1', solver = 'liblinear').fit(X_train, y_train)\n",
    "\n",
    "print('The variable coefficients provided by the lasso are:')\n",
    "coef = pd.Series(model_lassocv.coef_[0], index = X_train.columns)\n",
    "coef"
   ]
  }
 ],
 "metadata": {
  "kernelspec": {
   "display_name": "Python 3",
   "language": "python",
   "name": "python3"
  },
  "language_info": {
   "codemirror_mode": {
    "name": "ipython",
    "version": 3
   },
   "file_extension": ".py",
   "mimetype": "text/x-python",
   "name": "python",
   "nbconvert_exporter": "python",
   "pygments_lexer": "ipython3",
   "version": "3.8.6"
  }
 },
 "nbformat": 4,
 "nbformat_minor": 5
}
