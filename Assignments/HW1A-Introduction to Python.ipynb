{
 "cells": [
  {
   "cell_type": "code",
   "execution_count": 1,
   "id": "forward-painting",
   "metadata": {},
   "outputs": [],
   "source": [
    "import math\n",
    "import numpy as np\n",
    "import statistics as st\n",
    "import pandas as pd\n",
    "from sklearn.datasets import load_boston\n",
    "import matplotlib.pyplot as plt\n",
    "from scipy.stats import binom\n",
    "from scipy.stats import norm"
   ]
  },
  {
   "cell_type": "code",
   "execution_count": 2,
   "id": "manual-atlanta",
   "metadata": {},
   "outputs": [
    {
     "data": {
      "text/plain": [
       "15"
      ]
     },
     "execution_count": 2,
     "metadata": {},
     "output_type": "execute_result"
    }
   ],
   "source": [
    "x = 10\n",
    "y = 5\n",
    "x+y"
   ]
  },
  {
   "cell_type": "code",
   "execution_count": 3,
   "id": "residential-class",
   "metadata": {},
   "outputs": [
    {
     "data": {
      "text/plain": [
       "2.302585092994046"
      ]
     },
     "execution_count": 3,
     "metadata": {},
     "output_type": "execute_result"
    }
   ],
   "source": [
    "math.log(x)"
   ]
  },
  {
   "cell_type": "code",
   "execution_count": 4,
   "id": "severe-participant",
   "metadata": {},
   "outputs": [
    {
     "data": {
      "text/plain": [
       "148.4131591025766"
      ]
     },
     "execution_count": 4,
     "metadata": {},
     "output_type": "execute_result"
    }
   ],
   "source": [
    "math.exp(y)"
   ]
  },
  {
   "cell_type": "code",
   "execution_count": 5,
   "id": "together-apache",
   "metadata": {},
   "outputs": [
    {
     "data": {
      "text/plain": [
       "-0.8390715290764524"
      ]
     },
     "execution_count": 5,
     "metadata": {},
     "output_type": "execute_result"
    }
   ],
   "source": [
    "math.cos(x)"
   ]
  },
  {
   "cell_type": "code",
   "execution_count": 6,
   "id": "professional-holocaust",
   "metadata": {},
   "outputs": [
    {
     "data": {
      "text/plain": [
       "False"
      ]
     },
     "execution_count": 6,
     "metadata": {},
     "output_type": "execute_result"
    }
   ],
   "source": [
    "x == y"
   ]
  },
  {
   "cell_type": "code",
   "execution_count": 7,
   "id": "listed-exhaust",
   "metadata": {},
   "outputs": [
    {
     "data": {
      "text/plain": [
       "True"
      ]
     },
     "execution_count": 7,
     "metadata": {},
     "output_type": "execute_result"
    }
   ],
   "source": [
    "x > y"
   ]
  },
  {
   "cell_type": "markdown",
   "id": "intended-startup",
   "metadata": {},
   "source": [
    "## 3.3.1 Vector"
   ]
  },
  {
   "cell_type": "code",
   "execution_count": 8,
   "id": "extra-bacon",
   "metadata": {},
   "outputs": [],
   "source": [
    "# Define numerical vector z\n",
    "z = np.array([3,5,7,9])\n",
    "\n",
    "# Define character vector zz, where numerical operations cannot be directly applied.\n",
    "zz= np.array([\"cup\", \"plate\", \"pen\", \"paper\"])"
   ]
  },
  {
   "cell_type": "code",
   "execution_count": 9,
   "id": "buried-peninsula",
   "metadata": {},
   "outputs": [
    {
     "data": {
      "text/plain": [
       "6"
      ]
     },
     "execution_count": 9,
     "metadata": {},
     "output_type": "execute_result"
    }
   ],
   "source": [
    "#3.3.1.1 Average\n",
    "st.mean(z)"
   ]
  },
  {
   "cell_type": "code",
   "execution_count": 10,
   "id": "color-disability",
   "metadata": {},
   "outputs": [
    {
     "data": {
      "text/plain": [
       "2.23606797749979"
      ]
     },
     "execution_count": 10,
     "metadata": {},
     "output_type": "execute_result"
    }
   ],
   "source": [
    "#3.3.1.2 Standard Deviation\n",
    "np.std(z)"
   ]
  },
  {
   "cell_type": "code",
   "execution_count": 11,
   "id": "closing-forestry",
   "metadata": {},
   "outputs": [
    {
     "data": {
      "text/plain": [
       "6.0"
      ]
     },
     "execution_count": 11,
     "metadata": {},
     "output_type": "execute_result"
    }
   ],
   "source": [
    "#3.3.1.3 Median\n",
    "np.median(z)"
   ]
  },
  {
   "cell_type": "code",
   "execution_count": 12,
   "id": "juvenile-index",
   "metadata": {},
   "outputs": [
    {
     "data": {
      "text/plain": [
       "9"
      ]
     },
     "execution_count": 12,
     "metadata": {},
     "output_type": "execute_result"
    }
   ],
   "source": [
    "#3.3.1.4 Maximum\n",
    "np.max(z)"
   ]
  },
  {
   "cell_type": "code",
   "execution_count": 13,
   "id": "electrical-quick",
   "metadata": {},
   "outputs": [
    {
     "data": {
      "text/plain": [
       "3"
      ]
     },
     "execution_count": 13,
     "metadata": {},
     "output_type": "execute_result"
    }
   ],
   "source": [
    "#3.3.1.5 Minimum\n",
    "np.min(z)"
   ]
  },
  {
   "cell_type": "code",
   "execution_count": 14,
   "id": "incorporated-mattress",
   "metadata": {},
   "outputs": [
    {
     "data": {
      "text/html": [
       "<div>\n",
       "<style scoped>\n",
       "    .dataframe tbody tr th:only-of-type {\n",
       "        vertical-align: middle;\n",
       "    }\n",
       "\n",
       "    .dataframe tbody tr th {\n",
       "        vertical-align: top;\n",
       "    }\n",
       "\n",
       "    .dataframe thead th {\n",
       "        text-align: right;\n",
       "    }\n",
       "</style>\n",
       "<table border=\"1\" class=\"dataframe\">\n",
       "  <thead>\n",
       "    <tr style=\"text-align: right;\">\n",
       "      <th></th>\n",
       "      <th>0</th>\n",
       "    </tr>\n",
       "  </thead>\n",
       "  <tbody>\n",
       "    <tr>\n",
       "      <th>count</th>\n",
       "      <td>4.000000</td>\n",
       "    </tr>\n",
       "    <tr>\n",
       "      <th>mean</th>\n",
       "      <td>6.000000</td>\n",
       "    </tr>\n",
       "    <tr>\n",
       "      <th>std</th>\n",
       "      <td>2.581989</td>\n",
       "    </tr>\n",
       "    <tr>\n",
       "      <th>min</th>\n",
       "      <td>3.000000</td>\n",
       "    </tr>\n",
       "    <tr>\n",
       "      <th>25%</th>\n",
       "      <td>4.500000</td>\n",
       "    </tr>\n",
       "    <tr>\n",
       "      <th>50%</th>\n",
       "      <td>6.000000</td>\n",
       "    </tr>\n",
       "    <tr>\n",
       "      <th>75%</th>\n",
       "      <td>7.500000</td>\n",
       "    </tr>\n",
       "    <tr>\n",
       "      <th>max</th>\n",
       "      <td>9.000000</td>\n",
       "    </tr>\n",
       "  </tbody>\n",
       "</table>\n",
       "</div>"
      ],
      "text/plain": [
       "              0\n",
       "count  4.000000\n",
       "mean   6.000000\n",
       "std    2.581989\n",
       "min    3.000000\n",
       "25%    4.500000\n",
       "50%    6.000000\n",
       "75%    7.500000\n",
       "max    9.000000"
      ]
     },
     "execution_count": 14,
     "metadata": {},
     "output_type": "execute_result"
    }
   ],
   "source": [
    "#3.3.1.6 Summary statistics\n",
    "df_describe = pd.DataFrame(z)\n",
    "df_describe.describe()"
   ]
  },
  {
   "cell_type": "code",
   "execution_count": 15,
   "id": "invalid-probe",
   "metadata": {},
   "outputs": [
    {
     "name": "stdout",
     "output_type": "stream",
     "text": [
      "[3 5 7 9]\n"
     ]
    }
   ],
   "source": [
    "#3.3.1.7 Calculations\n",
    "print(z)"
   ]
  },
  {
   "cell_type": "code",
   "execution_count": 16,
   "id": "skilled-oklahoma",
   "metadata": {},
   "outputs": [
    {
     "name": "stdout",
     "output_type": "stream",
     "text": [
      "[ 5  7  9 11]\n"
     ]
    }
   ],
   "source": [
    "print(z+2)"
   ]
  },
  {
   "cell_type": "code",
   "execution_count": 17,
   "id": "stable-bedroom",
   "metadata": {},
   "outputs": [
    {
     "name": "stdout",
     "output_type": "stream",
     "text": [
      "[0.3 0.5 0.7 0.9]\n"
     ]
    }
   ],
   "source": [
    "print(z/10)"
   ]
  },
  {
   "cell_type": "code",
   "execution_count": 18,
   "id": "incredible-force",
   "metadata": {},
   "outputs": [
    {
     "name": "stdout",
     "output_type": "stream",
     "text": [
      "[ 5  9 13 17]\n"
     ]
    }
   ],
   "source": [
    "# define vector z1\n",
    "z1 = np.array([2,4,6,8])\n",
    "# Elementwise operations (must be the same length)\n",
    "print(z+z1)"
   ]
  },
  {
   "cell_type": "code",
   "execution_count": 19,
   "id": "joint-operator",
   "metadata": {},
   "outputs": [
    {
     "name": "stdout",
     "output_type": "stream",
     "text": [
      "[ 6 20 42 72]\n"
     ]
    }
   ],
   "source": [
    "print(z*z1)"
   ]
  },
  {
   "cell_type": "code",
   "execution_count": 20,
   "id": "heard-creature",
   "metadata": {},
   "outputs": [
    {
     "name": "stdout",
     "output_type": "stream",
     "text": [
      "[3 5 7 9 2 4 6 8]\n"
     ]
    }
   ],
   "source": [
    "# define vector z2\n",
    "z2 = np.concatenate((z, z1))\n",
    "print(z2)"
   ]
  },
  {
   "cell_type": "code",
   "execution_count": 21,
   "id": "uniform-hunger",
   "metadata": {},
   "outputs": [
    {
     "data": {
      "text/plain": [
       "5"
      ]
     },
     "execution_count": 21,
     "metadata": {},
     "output_type": "execute_result"
    }
   ],
   "source": [
    "#3.3.1.8 Indexing\n",
    "#How to extract the second entry of vector z2=(3,5,7,9,2,4,6,8)?\n",
    "z2[1] "
   ]
  },
  {
   "cell_type": "code",
   "execution_count": 22,
   "id": "operational-influence",
   "metadata": {},
   "outputs": [
    {
     "name": "stdout",
     "output_type": "stream",
     "text": [
      "[5 7 9 4 6 8]\n"
     ]
    }
   ],
   "source": [
    "#How to extract all elements greater than 3 from vector z2?\n",
    "print(z2[z2>3])"
   ]
  },
  {
   "cell_type": "code",
   "execution_count": 23,
   "id": "reliable-cigarette",
   "metadata": {},
   "outputs": [
    {
     "name": "stdout",
     "output_type": "stream",
     "text": [
      "[5 4]\n"
     ]
    }
   ],
   "source": [
    "#How to extract all elements greater than 3 and smaller than 6 from vector z2?\n",
    "print(z2[(z2>3) & (z2<6)])"
   ]
  },
  {
   "cell_type": "code",
   "execution_count": 24,
   "id": "employed-richardson",
   "metadata": {},
   "outputs": [
    {
     "name": "stdout",
     "output_type": "stream",
     "text": [
      "[2 3 4 5 6 7 8 9]\n"
     ]
    }
   ],
   "source": [
    "#How to order the vector z2 from smallest to largest?\n",
    "print(np.sort(z2))"
   ]
  },
  {
   "cell_type": "markdown",
   "id": "raised-antique",
   "metadata": {},
   "source": [
    "## 3.3.2 Matrix"
   ]
  },
  {
   "cell_type": "code",
   "execution_count": 25,
   "id": "controlling-piano",
   "metadata": {},
   "outputs": [
    {
     "name": "stdout",
     "output_type": "stream",
     "text": [
      "[[1 2 3]\n",
      " [4 5 6]]\n"
     ]
    }
   ],
   "source": [
    "#3.3.2.1 Creating\n",
    "z = np.array([3,5,7,9])\n",
    "\n",
    "A = np.reshape([1,2,3,4,5,6],(2,3))\n",
    "print(A)"
   ]
  },
  {
   "cell_type": "markdown",
   "id": "stainless-extent",
   "metadata": {},
   "source": [
    "#### Question: Think about what would it be if specify ncol=2, or ncol=4?"
   ]
  },
  {
   "cell_type": "code",
   "execution_count": 26,
   "id": "capital-recipe",
   "metadata": {},
   "outputs": [
    {
     "name": "stdout",
     "output_type": "stream",
     "text": [
      " The A42 matrix is :\n",
      " [[3 5]\n",
      " [7 9]\n",
      " [2 4]\n",
      " [6 8]]\n",
      "The A24 matrix is:\n",
      " [[3 5 7 9]\n",
      " [2 4 6 8]]\n"
     ]
    }
   ],
   "source": [
    "A42 = np.reshape(z2,(4,2))\n",
    "A24 = np.reshape(z2,(2,4))\n",
    "print(\" The A42 matrix is :\\n\",A42)\n",
    "print(\"The A24 matrix is:\\n\", A24)"
   ]
  },
  {
   "cell_type": "code",
   "execution_count": 27,
   "id": "preceding-jefferson",
   "metadata": {},
   "outputs": [
    {
     "data": {
      "text/plain": [
       "array([[3, 4, 5],\n",
       "       [6, 7, 8]])"
      ]
     },
     "execution_count": 27,
     "metadata": {},
     "output_type": "execute_result"
    }
   ],
   "source": [
    "# 3.3.2.2 Calculation\n",
    "A = np.reshape([1,2,3,4,5,6],(2,3))\n",
    "\n",
    "A+2"
   ]
  },
  {
   "cell_type": "code",
   "execution_count": 28,
   "id": "spanish-suspect",
   "metadata": {},
   "outputs": [
    {
     "data": {
      "text/plain": [
       "(2, 3)"
      ]
     },
     "execution_count": 28,
     "metadata": {},
     "output_type": "execute_result"
    }
   ],
   "source": [
    "A.shape"
   ]
  },
  {
   "cell_type": "code",
   "execution_count": 29,
   "id": "renewable-generation",
   "metadata": {},
   "outputs": [
    {
     "name": "stdout",
     "output_type": "stream",
     "text": [
      "The transpose of matrix is :\n",
      " [[1 4]\n",
      " [2 5]\n",
      " [3 6]]\n"
     ]
    }
   ],
   "source": [
    "print(\"The transpose of matrix is :\\n\", A.T)"
   ]
  },
  {
   "cell_type": "code",
   "execution_count": 30,
   "id": "illegal-study",
   "metadata": {},
   "outputs": [
    {
     "data": {
      "text/plain": [
       "array([[17, 22, 27],\n",
       "       [22, 29, 36],\n",
       "       [27, 36, 45]])"
      ]
     },
     "execution_count": 30,
     "metadata": {},
     "output_type": "execute_result"
    }
   ],
   "source": [
    "np.matmul((A.T),A)"
   ]
  },
  {
   "cell_type": "code",
   "execution_count": 31,
   "id": "offensive-alliance",
   "metadata": {},
   "outputs": [
    {
     "data": {
      "text/plain": [
       "array([[ 3,  6,  9],\n",
       "       [12, 15, 18]])"
      ]
     },
     "execution_count": 31,
     "metadata": {},
     "output_type": "execute_result"
    }
   ],
   "source": [
    "# New matrix with dimension 4*2\n",
    "A2 = A * 2\n",
    "# Matrix calculation should satisfy the rules of matrix algebra\n",
    "A + A2"
   ]
  },
  {
   "cell_type": "markdown",
   "id": "corresponding-fetish",
   "metadata": {},
   "source": [
    "#### Question: What would happen if run A %*% A2?"
   ]
  },
  {
   "cell_type": "code",
   "execution_count": 32,
   "id": "pleasant-evolution",
   "metadata": {},
   "outputs": [
    {
     "data": {
      "text/plain": [
       "array([[ 2,  8, 18],\n",
       "       [32, 50, 72]])"
      ]
     },
     "execution_count": 32,
     "metadata": {},
     "output_type": "execute_result"
    }
   ],
   "source": [
    "A*A2"
   ]
  },
  {
   "cell_type": "markdown",
   "id": "olive-racing",
   "metadata": {},
   "source": [
    "#### 3.3.2.3 Indexing\n",
    "How to extract the second entry of second row from matrix A?"
   ]
  },
  {
   "cell_type": "code",
   "execution_count": 33,
   "id": "nutritional-skating",
   "metadata": {},
   "outputs": [
    {
     "data": {
      "text/plain": [
       "5"
      ]
     },
     "execution_count": 33,
     "metadata": {},
     "output_type": "execute_result"
    }
   ],
   "source": [
    "A[1,1]"
   ]
  },
  {
   "cell_type": "markdown",
   "id": "dirty-acquisition",
   "metadata": {},
   "source": [
    "How to extract the first row from matrix A?"
   ]
  },
  {
   "cell_type": "code",
   "execution_count": 34,
   "id": "duplicate-beijing",
   "metadata": {},
   "outputs": [
    {
     "data": {
      "text/plain": [
       "array([4, 5, 6])"
      ]
     },
     "execution_count": 34,
     "metadata": {},
     "output_type": "execute_result"
    }
   ],
   "source": [
    "A[1, ]"
   ]
  },
  {
   "cell_type": "markdown",
   "id": "defined-cannon",
   "metadata": {},
   "source": [
    "How to extract first two column from matrix A?"
   ]
  },
  {
   "cell_type": "code",
   "execution_count": 35,
   "id": "approximate-occurrence",
   "metadata": {},
   "outputs": [
    {
     "data": {
      "text/plain": [
       "array([[1, 2],\n",
       "       [4, 5]])"
      ]
     },
     "execution_count": 35,
     "metadata": {},
     "output_type": "execute_result"
    }
   ],
   "source": [
    "A[:,0:2]"
   ]
  },
  {
   "cell_type": "markdown",
   "id": "green-complement",
   "metadata": {},
   "source": [
    "What are the diagonal elements of t(A) %*% A?"
   ]
  },
  {
   "cell_type": "markdown",
   "id": "copyrighted-update",
   "metadata": {},
   "source": [
    "The diagonal elements are 17,29,45"
   ]
  },
  {
   "cell_type": "code",
   "execution_count": 36,
   "id": "oriented-parker",
   "metadata": {},
   "outputs": [],
   "source": [
    "### 3.3.3 Data frames"
   ]
  },
  {
   "cell_type": "code",
   "execution_count": 37,
   "id": "august-truth",
   "metadata": {},
   "outputs": [
    {
     "data": {
      "text/plain": [
       "pandas.core.frame.DataFrame"
      ]
     },
     "execution_count": 37,
     "metadata": {},
     "output_type": "execute_result"
    }
   ],
   "source": [
    "# 3.3.3.1 Creating\n",
    "mydf = pd.DataFrame(A)\n",
    "type(mydf)"
   ]
  },
  {
   "cell_type": "code",
   "execution_count": 38,
   "id": "accurate-january",
   "metadata": {},
   "outputs": [],
   "source": [
    "mydata = pd.read_csv(\"storks.csv\")"
   ]
  },
  {
   "cell_type": "code",
   "execution_count": 39,
   "id": "divine-maple",
   "metadata": {},
   "outputs": [],
   "source": [
    "cars = pd.read_csv(\"cars.csv\")"
   ]
  },
  {
   "cell_type": "code",
   "execution_count": 40,
   "id": "dried-canon",
   "metadata": {},
   "outputs": [
    {
     "data": {
      "text/html": [
       "<div>\n",
       "<style scoped>\n",
       "    .dataframe tbody tr th:only-of-type {\n",
       "        vertical-align: middle;\n",
       "    }\n",
       "\n",
       "    .dataframe tbody tr th {\n",
       "        vertical-align: top;\n",
       "    }\n",
       "\n",
       "    .dataframe thead th {\n",
       "        text-align: right;\n",
       "    }\n",
       "</style>\n",
       "<table border=\"1\" class=\"dataframe\">\n",
       "  <thead>\n",
       "    <tr style=\"text-align: right;\">\n",
       "      <th></th>\n",
       "      <th>speed</th>\n",
       "      <th>dist</th>\n",
       "    </tr>\n",
       "  </thead>\n",
       "  <tbody>\n",
       "    <tr>\n",
       "      <th>0</th>\n",
       "      <td>4</td>\n",
       "      <td>2</td>\n",
       "    </tr>\n",
       "    <tr>\n",
       "      <th>1</th>\n",
       "      <td>4</td>\n",
       "      <td>10</td>\n",
       "    </tr>\n",
       "    <tr>\n",
       "      <th>2</th>\n",
       "      <td>7</td>\n",
       "      <td>4</td>\n",
       "    </tr>\n",
       "    <tr>\n",
       "      <th>3</th>\n",
       "      <td>7</td>\n",
       "      <td>22</td>\n",
       "    </tr>\n",
       "    <tr>\n",
       "      <th>4</th>\n",
       "      <td>8</td>\n",
       "      <td>16</td>\n",
       "    </tr>\n",
       "  </tbody>\n",
       "</table>\n",
       "</div>"
      ],
      "text/plain": [
       "   speed  dist\n",
       "0      4     2\n",
       "1      4    10\n",
       "2      7     4\n",
       "3      7    22\n",
       "4      8    16"
      ]
     },
     "execution_count": 40,
     "metadata": {},
     "output_type": "execute_result"
    }
   ],
   "source": [
    "cars.head()"
   ]
  },
  {
   "cell_type": "code",
   "execution_count": 41,
   "id": "checked-board",
   "metadata": {},
   "outputs": [
    {
     "data": {
      "text/plain": [
       "Index(['speed', 'dist'], dtype='object')"
      ]
     },
     "execution_count": 41,
     "metadata": {},
     "output_type": "execute_result"
    }
   ],
   "source": [
    "#Variable names\n",
    "cars.columns"
   ]
  },
  {
   "cell_type": "code",
   "execution_count": 42,
   "id": "confirmed-heath",
   "metadata": {},
   "outputs": [
    {
     "data": {
      "text/html": [
       "<div>\n",
       "<style scoped>\n",
       "    .dataframe tbody tr th:only-of-type {\n",
       "        vertical-align: middle;\n",
       "    }\n",
       "\n",
       "    .dataframe tbody tr th {\n",
       "        vertical-align: top;\n",
       "    }\n",
       "\n",
       "    .dataframe thead th {\n",
       "        text-align: right;\n",
       "    }\n",
       "</style>\n",
       "<table border=\"1\" class=\"dataframe\">\n",
       "  <thead>\n",
       "    <tr style=\"text-align: right;\">\n",
       "      <th></th>\n",
       "      <th>speed</th>\n",
       "      <th>dist</th>\n",
       "    </tr>\n",
       "  </thead>\n",
       "  <tbody>\n",
       "    <tr>\n",
       "      <th>count</th>\n",
       "      <td>50.000000</td>\n",
       "      <td>50.000000</td>\n",
       "    </tr>\n",
       "    <tr>\n",
       "      <th>mean</th>\n",
       "      <td>15.400000</td>\n",
       "      <td>42.980000</td>\n",
       "    </tr>\n",
       "    <tr>\n",
       "      <th>std</th>\n",
       "      <td>5.287644</td>\n",
       "      <td>25.769377</td>\n",
       "    </tr>\n",
       "    <tr>\n",
       "      <th>min</th>\n",
       "      <td>4.000000</td>\n",
       "      <td>2.000000</td>\n",
       "    </tr>\n",
       "    <tr>\n",
       "      <th>25%</th>\n",
       "      <td>12.000000</td>\n",
       "      <td>26.000000</td>\n",
       "    </tr>\n",
       "    <tr>\n",
       "      <th>50%</th>\n",
       "      <td>15.000000</td>\n",
       "      <td>36.000000</td>\n",
       "    </tr>\n",
       "    <tr>\n",
       "      <th>75%</th>\n",
       "      <td>19.000000</td>\n",
       "      <td>56.000000</td>\n",
       "    </tr>\n",
       "    <tr>\n",
       "      <th>max</th>\n",
       "      <td>25.000000</td>\n",
       "      <td>120.000000</td>\n",
       "    </tr>\n",
       "  </tbody>\n",
       "</table>\n",
       "</div>"
      ],
      "text/plain": [
       "           speed        dist\n",
       "count  50.000000   50.000000\n",
       "mean   15.400000   42.980000\n",
       "std     5.287644   25.769377\n",
       "min     4.000000    2.000000\n",
       "25%    12.000000   26.000000\n",
       "50%    15.000000   36.000000\n",
       "75%    19.000000   56.000000\n",
       "max    25.000000  120.000000"
      ]
     },
     "execution_count": 42,
     "metadata": {},
     "output_type": "execute_result"
    }
   ],
   "source": [
    "#Summary\n",
    "cars.describe()"
   ]
  },
  {
   "cell_type": "code",
   "execution_count": 43,
   "id": "contrary-history",
   "metadata": {},
   "outputs": [
    {
     "name": "stdout",
     "output_type": "stream",
     "text": [
      "<class 'pandas.core.frame.DataFrame'>\n",
      "RangeIndex: 50 entries, 0 to 49\n",
      "Data columns (total 2 columns):\n",
      " #   Column  Non-Null Count  Dtype\n",
      "---  ------  --------------  -----\n",
      " 0   speed   50 non-null     int64\n",
      " 1   dist    50 non-null     int64\n",
      "dtypes: int64(2)\n",
      "memory usage: 928.0 bytes\n"
     ]
    }
   ],
   "source": [
    "#Structure\n",
    "cars.info()"
   ]
  },
  {
   "cell_type": "code",
   "execution_count": 44,
   "id": "simplified-terminal",
   "metadata": {},
   "outputs": [],
   "source": [
    "## 3.3.3.2 Manipulating"
   ]
  },
  {
   "cell_type": "code",
   "execution_count": 45,
   "id": "professional-clark",
   "metadata": {},
   "outputs": [],
   "source": [
    "cars1 =  cars\n",
    "cars1['time'] =  cars['dist']/cars['speed']"
   ]
  },
  {
   "cell_type": "code",
   "execution_count": 46,
   "id": "vocational-charlotte",
   "metadata": {},
   "outputs": [
    {
     "data": {
      "text/html": [
       "<div>\n",
       "<style scoped>\n",
       "    .dataframe tbody tr th:only-of-type {\n",
       "        vertical-align: middle;\n",
       "    }\n",
       "\n",
       "    .dataframe tbody tr th {\n",
       "        vertical-align: top;\n",
       "    }\n",
       "\n",
       "    .dataframe thead th {\n",
       "        text-align: right;\n",
       "    }\n",
       "</style>\n",
       "<table border=\"1\" class=\"dataframe\">\n",
       "  <thead>\n",
       "    <tr style=\"text-align: right;\">\n",
       "      <th></th>\n",
       "      <th>speed</th>\n",
       "      <th>dist</th>\n",
       "    </tr>\n",
       "  </thead>\n",
       "  <tbody>\n",
       "    <tr>\n",
       "      <th>0</th>\n",
       "      <td>4</td>\n",
       "      <td>2</td>\n",
       "    </tr>\n",
       "    <tr>\n",
       "      <th>1</th>\n",
       "      <td>4</td>\n",
       "      <td>10</td>\n",
       "    </tr>\n",
       "    <tr>\n",
       "      <th>2</th>\n",
       "      <td>7</td>\n",
       "      <td>4</td>\n",
       "    </tr>\n",
       "    <tr>\n",
       "      <th>3</th>\n",
       "      <td>7</td>\n",
       "      <td>22</td>\n",
       "    </tr>\n",
       "    <tr>\n",
       "      <th>4</th>\n",
       "      <td>8</td>\n",
       "      <td>16</td>\n",
       "    </tr>\n",
       "  </tbody>\n",
       "</table>\n",
       "</div>"
      ],
      "text/plain": [
       "   speed  dist\n",
       "0      4     2\n",
       "1      4    10\n",
       "2      7     4\n",
       "3      7    22\n",
       "4      8    16"
      ]
     },
     "execution_count": 46,
     "metadata": {},
     "output_type": "execute_result"
    }
   ],
   "source": [
    "cars2 = cars1.iloc[: , :-1]\n",
    "cars2.head()"
   ]
  },
  {
   "cell_type": "code",
   "execution_count": 47,
   "id": "quick-flooring",
   "metadata": {},
   "outputs": [],
   "source": [
    "# 3.3.4 List\n",
    "mylist =  list([z, A, cars])"
   ]
  },
  {
   "cell_type": "code",
   "execution_count": 48,
   "id": "specified-friendly",
   "metadata": {},
   "outputs": [
    {
     "name": "stdout",
     "output_type": "stream",
     "text": [
      "(40, 1) (10, 1) (40, 1) (10, 1)\n"
     ]
    }
   ],
   "source": [
    "## Linear Regression \n",
    "from sklearn.model_selection import train_test_split\n",
    "from sklearn.linear_model import LinearRegression\n",
    "from sklearn import metrics\n",
    "\n",
    "X = cars[['speed']]\n",
    "y = cars[['dist']]\n",
    "\n",
    "\n",
    "X_train, X_test, y_train, y_test = train_test_split(X,y,test_size=0.2,random_state =14023799)\n",
    "\n",
    "print(X_train.shape, X_test.shape, y_train.shape, y_test.shape)"
   ]
  },
  {
   "cell_type": "code",
   "execution_count": 49,
   "id": "electoral-mother",
   "metadata": {},
   "outputs": [
    {
     "name": "stdout",
     "output_type": "stream",
     "text": [
      "[[3.89815818]]\n"
     ]
    }
   ],
   "source": [
    "lr = LinearRegression()\n",
    "model = lr.fit(X_train, y_train)\n",
    "print(lr.coef_)"
   ]
  },
  {
   "cell_type": "markdown",
   "id": "massive-biology",
   "metadata": {},
   "source": [
    "## 3.4 Basic Plotting"
   ]
  },
  {
   "cell_type": "code",
   "execution_count": 50,
   "id": "traditional-pacific",
   "metadata": {},
   "outputs": [],
   "source": [
    "dataset = load_boston()\n",
    "boston_housing = pd.DataFrame(dataset.data, columns=dataset.feature_names)\n",
    "boston_housing['target'] = dataset.target"
   ]
  },
  {
   "cell_type": "code",
   "execution_count": 57,
   "id": "another-wesley",
   "metadata": {},
   "outputs": [
    {
     "data": {
      "image/png": "[encoded data removed]",
      "text/plain": [
       "<Figure size 360x432 with 1 Axes>"
      ]
     },
     "metadata": {
      "needs_background": "light"
     },
     "output_type": "display_data"
    }
   ],
   "source": [
    "plt.figure(figsize=(5, 6))\n",
    "plt.scatter(boston_housing.AGE,boston_housing.target)\n",
    "plt.ylabel('Price', size=15)\n",
    "plt.xlabel('AGE', size=15);"
   ]
  },
  {
   "cell_type": "markdown",
   "id": "urban-yield",
   "metadata": {},
   "source": [
    "## 3.5 Probability Distributions"
   ]
  },
  {
   "cell_type": "code",
   "execution_count": 52,
   "id": "pending-florence",
   "metadata": {},
   "outputs": [
    {
     "name": "stdout",
     "output_type": "stream",
     "text": [
      "0.20507812500000022\n"
     ]
    }
   ],
   "source": [
    "result1 =binom.pmf(k=4,n=10,p=0.5)\n",
    "print(result1)"
   ]
  },
  {
   "cell_type": "code",
   "execution_count": 53,
   "id": "productive-theater",
   "metadata": {},
   "outputs": [
    {
     "name": "stdout",
     "output_type": "stream",
     "text": [
      "0.9685572370192473\n"
     ]
    }
   ],
   "source": [
    "norm_cdf = norm.cdf(1.86)\n",
    "print(norm_cdf)"
   ]
  },
  {
   "cell_type": "code",
   "execution_count": 54,
   "id": "southern-supplier",
   "metadata": {},
   "outputs": [
    {
     "name": "stdout",
     "output_type": "stream",
     "text": [
      "1.959963984540054\n"
     ]
    }
   ],
   "source": [
    "norm_ppf = norm.ppf(0.975)\n",
    "print(norm_ppf)"
   ]
  },
  {
   "cell_type": "code",
   "execution_count": 55,
   "id": "stone-symbol",
   "metadata": {},
   "outputs": [
    {
     "data": {
      "text/plain": [
       "array([ 1.12009202, -1.28851116, -0.57756705,  0.01251539,  2.31334531,\n",
       "       -1.0603478 ,  0.58773575, -0.37842919, -1.76654778,  0.68061982])"
      ]
     },
     "execution_count": 55,
     "metadata": {},
     "output_type": "execute_result"
    }
   ],
   "source": [
    "norm.rvs(size=10,random_state=14023799)"
   ]
  },
  {
   "cell_type": "code",
   "execution_count": 56,
   "id": "raised-wings",
   "metadata": {},
   "outputs": [
    {
     "data": {
      "text/plain": [
       "array([122.40184039,  74.22977676,  88.44865893, 100.25030773,\n",
       "       146.26690616,  78.79304393, 111.75471509,  92.43141628,\n",
       "        64.66904448, 113.61239647])"
      ]
     },
     "execution_count": 56,
     "metadata": {},
     "output_type": "execute_result"
    }
   ],
   "source": [
    "norm.rvs(100,20,size=10,random_state=14023799)"
   ]
  }
 ],
 "metadata": {
  "kernelspec": {
   "display_name": "Python 3",
   "language": "python",
   "name": "python3"
  },
  "language_info": {
   "codemirror_mode": {
    "name": "ipython",
    "version": 3
   },
   "file_extension": ".py",
   "mimetype": "text/x-python",
   "name": "python",
   "nbconvert_exporter": "python",
   "pygments_lexer": "ipython3",
   "version": "3.8.6"
  }
 },
 "nbformat": 4,
 "nbformat_minor": 5
}
