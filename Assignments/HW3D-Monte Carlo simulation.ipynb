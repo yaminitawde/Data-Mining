{
 "cells": [
  {
   "cell_type": "code",
   "execution_count": null,
   "id": "further-album",
   "metadata": {},
   "outputs": [],
   "source": [
    "Assume mean function E(y|x)=5+1.2∗x1+3∗x2\n",
    "\n",
    "Generate data with x1∼N(2,.42), x2∼N(−1,.12), sample size n=200, and error term ε∼N(0,σ2), where σ2=1."
   ]
  }
 ],
 "metadata": {
  "kernelspec": {
   "display_name": "Python 3",
   "language": "python",
   "name": "python3"
  },
  "language_info": {
   "codemirror_mode": {
    "name": "ipython",
    "version": 3
   },
   "file_extension": ".py",
   "mimetype": "text/x-python",
   "name": "python",
   "nbconvert_exporter": "python",
   "pygments_lexer": "ipython3",
   "version": "3.8.6"
  }
 },
 "nbformat": 4,
 "nbformat_minor": 5
}
