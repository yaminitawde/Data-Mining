{
 "cells": [
  {
   "cell_type": "code",
   "execution_count": 1,
   "id": "textile-degree",
   "metadata": {},
   "outputs": [],
   "source": [
    "import numpy as np"
   ]
  },
  {
   "cell_type": "code",
   "execution_count": 2,
   "id": "miniature-impossible",
   "metadata": {},
   "outputs": [
    {
     "data": {
      "text/plain": [
       "5"
      ]
     },
     "execution_count": 2,
     "metadata": {},
     "output_type": "execute_result"
    }
   ],
   "source": [
    "def abs_val(x):\n",
    "  if(x >= 0):\n",
    "    return(x)\n",
    "  else:\n",
    "    return(-x)\n",
    "\n",
    "abs_val(-5)"
   ]
  },
  {
   "cell_type": "code",
   "execution_count": 3,
   "id": "brave-robert",
   "metadata": {},
   "outputs": [],
   "source": [
    "def mytruncation(v, lower, upper):\n",
    "    v =np.where(v < lower, lower, v)\n",
    "    v = np.where(v > upper, upper, v)\n",
    "    return(v)"
   ]
  },
  {
   "cell_type": "code",
   "execution_count": 4,
   "id": "consistent-musician",
   "metadata": {},
   "outputs": [
    {
     "data": {
      "text/plain": [
       "array([3, 3, 3, 4, 5, 6, 7, 7, 7])"
      ]
     },
     "execution_count": 4,
     "metadata": {},
     "output_type": "execute_result"
    }
   ],
   "source": [
    "v = np.array([1,2,3,4,5,6,7,8,9])\n",
    "mytruncation(v,3,7)"
   ]
  },
  {
   "cell_type": "code",
   "execution_count": 5,
   "id": "arbitrary-blair",
   "metadata": {},
   "outputs": [
    {
     "name": "stdout",
     "output_type": "stream",
     "text": [
      "5.187377517639621\n"
     ]
    }
   ],
   "source": [
    "i = 1\n",
    "x = 1\n",
    "while(i<100):\n",
    "  i= i+1\n",
    "  x= x+1/i\n",
    "print(x)"
   ]
  },
  {
   "cell_type": "code",
   "execution_count": 6,
   "id": "sunset-antibody",
   "metadata": {},
   "outputs": [
    {
     "name": "stdout",
     "output_type": "stream",
     "text": [
      "5.177377517639621\n"
     ]
    }
   ],
   "source": [
    "x = 1\n",
    "for i in range(2,100):\n",
    "  x= x+1/i\n",
    "\n",
    "print(x)"
   ]
  }
 ],
 "metadata": {
  "kernelspec": {
   "display_name": "Python 3",
   "language": "python",
   "name": "python3"
  },
  "language_info": {
   "codemirror_mode": {
    "name": "ipython",
    "version": 3
   },
   "file_extension": ".py",
   "mimetype": "text/x-python",
   "name": "python",
   "nbconvert_exporter": "python",
   "pygments_lexer": "ipython3",
   "version": "3.8.6"
  }
 },
 "nbformat": 4,
 "nbformat_minor": 5
}
