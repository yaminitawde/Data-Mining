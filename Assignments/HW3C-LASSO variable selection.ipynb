{
 "cells": [
  {
   "cell_type": "code",
   "execution_count": 1,
   "id": "postal-bumper",
   "metadata": {},
   "outputs": [],
   "source": [
    "from sklearn.linear_model import Lasso\n",
    "import pandas as pd\n",
    "import numpy as np\n",
    "from sklearn.datasets import load_boston\n",
    "import matplotlib.pyplot as plt\n",
    "import seaborn as sns\n",
    "import warnings\n",
    "warnings.filterwarnings('ignore')"
   ]
  },
  {
   "cell_type": "code",
   "execution_count": 2,
   "id": "coastal-tourist",
   "metadata": {},
   "outputs": [],
   "source": [
    "dataset = load_boston()\n",
    "boston_housing = pd.DataFrame(dataset.data, columns= map(str.lower, dataset.feature_names))\n",
    "boston_housing['medv'] = dataset.target"
   ]
  },
  {
   "cell_type": "code",
   "execution_count": 3,
   "id": "located-glossary",
   "metadata": {},
   "outputs": [],
   "source": [
    "X_var = boston_housing.iloc[:,:-1]\n",
    "y_var = boston_housing.iloc[:,-1:]"
   ]
  },
  {
   "cell_type": "code",
   "execution_count": 4,
   "id": "gross-allah",
   "metadata": {},
   "outputs": [
    {
     "name": "stdout",
     "output_type": "stream",
     "text": [
      "The variable coefficients provided by the lasso are:\n"
     ]
    },
    {
     "data": {
      "text/plain": [
       "crim      -0.083289\n",
       "zn         0.049544\n",
       "indus     -0.005253\n",
       "chas       0.000000\n",
       "nox       -0.000000\n",
       "rm         2.498212\n",
       "age        0.003604\n",
       "dis       -0.936605\n",
       "rad        0.277451\n",
       "tax       -0.015442\n",
       "ptratio   -0.758752\n",
       "b          0.009469\n",
       "lstat     -0.656290\n",
       "dtype: float64"
      ]
     },
     "execution_count": 4,
     "metadata": {},
     "output_type": "execute_result"
    }
   ],
   "source": [
    "#alpha = 0.5\n",
    "model_lasso = Lasso(alpha = 0.5).fit(X_var, y_var['medv'] )\n",
    "\n",
    "print('The variable coefficients provided by the lasso are:')\n",
    "coef = pd.Series(model_lasso.coef_, index = X_var.columns)\n",
    "coef"
   ]
  },
  {
   "cell_type": "code",
   "execution_count": 5,
   "id": "analyzed-radiation",
   "metadata": {},
   "outputs": [
    {
     "name": "stdout",
     "output_type": "stream",
     "text": [
      "The variable coefficients provided by the lasso are:\n"
     ]
    },
    {
     "data": {
      "text/plain": [
       "crim      -0.063437\n",
       "zn         0.049165\n",
       "indus     -0.000000\n",
       "chas       0.000000\n",
       "nox       -0.000000\n",
       "rm         0.949811\n",
       "age        0.020910\n",
       "dis       -0.668790\n",
       "rad        0.264206\n",
       "tax       -0.015212\n",
       "ptratio   -0.722966\n",
       "b          0.008247\n",
       "lstat     -0.761115\n",
       "dtype: float64"
      ]
     },
     "execution_count": 5,
     "metadata": {},
     "output_type": "execute_result"
    }
   ],
   "source": [
    "#alpha = 1\n",
    "model_lasso1 = Lasso(alpha = 1).fit(X_var, y_var['medv'] )\n",
    "\n",
    "print('The variable coefficients provided by the lasso are:')\n",
    "coef = pd.Series(model_lasso1.coef_, index = X_var.columns)\n",
    "coef"
   ]
  },
  {
   "cell_type": "code",
   "execution_count": 6,
   "id": "quick-lightning",
   "metadata": {},
   "outputs": [
    {
     "name": "stdout",
     "output_type": "stream",
     "text": [
      "The variable coefficients provided by the lasso are:\n"
     ]
    },
    {
     "data": {
      "text/plain": [
       "crim      -0.074266\n",
       "zn         0.049454\n",
       "indus     -0.000000\n",
       "chas       0.000000\n",
       "nox       -0.000000\n",
       "rm         1.804385\n",
       "age        0.011333\n",
       "dis       -0.813244\n",
       "rad        0.272284\n",
       "tax       -0.015425\n",
       "ptratio   -0.742872\n",
       "b          0.008926\n",
       "lstat     -0.703654\n",
       "dtype: float64"
      ]
     },
     "execution_count": 6,
     "metadata": {},
     "output_type": "execute_result"
    }
   ],
   "source": [
    "#use 5-fold cross validation to pick lambda\n",
    "\n",
    "from sklearn.linear_model import LassoCV\n",
    "\n",
    "model_lassocv = LassoCV(cv = 5).fit(X_var, y_var['medv'])\n",
    "\n",
    "print('The variable coefficients provided by the lasso are:')\n",
    "coef = pd.Series(model_lassocv.coef_, index = X_var.columns)\n",
    "coef"
   ]
  },
  {
   "cell_type": "code",
   "execution_count": 7,
   "id": "third-registrar",
   "metadata": {},
   "outputs": [
    {
     "name": "stdout",
     "output_type": "stream",
     "text": [
      "The chosen alpha is: \n"
     ]
    },
    {
     "data": {
      "text/plain": [
       "0.7248204283772595"
      ]
     },
     "execution_count": 7,
     "metadata": {},
     "output_type": "execute_result"
    }
   ],
   "source": [
    "print(\"The chosen alpha is: \")\n",
    "model_lassocv.alpha_"
   ]
  },
  {
   "cell_type": "code",
   "execution_count": 8,
   "id": "progressive-tobago",
   "metadata": {},
   "outputs": [
    {
     "data": {
      "image/png": "[encoded data removed]",
      "text/plain": [
       "<Figure size 576x432 with 1 Axes>"
      ]
     },
     "metadata": {
      "needs_background": "light"
     },
     "output_type": "display_data"
    }
   ],
   "source": [
    "mse_path = model_lassocv.mse_path_.mean(axis = 1)\n",
    "aplha_path = model_lassocv.alphas_\n",
    "\n",
    "plt.figure(figsize = (8,6))\n",
    "sns.scatterplot(aplha_path, mse_path)\n",
    "plt.ylabel('Mean Squared Error')\n",
    "plt.xlabel('Alpha')\n",
    "plt.show()"
   ]
  }
 ],
 "metadata": {
  "kernelspec": {
   "display_name": "Python 3",
   "language": "python",
   "name": "python3"
  },
  "language_info": {
   "codemirror_mode": {
    "name": "ipython",
    "version": 3
   },
   "file_extension": ".py",
   "mimetype": "text/x-python",
   "name": "python",
   "nbconvert_exporter": "python",
   "pygments_lexer": "ipython3",
   "version": "3.8.6"
  }
 },
 "nbformat": 4,
 "nbformat_minor": 5
}
